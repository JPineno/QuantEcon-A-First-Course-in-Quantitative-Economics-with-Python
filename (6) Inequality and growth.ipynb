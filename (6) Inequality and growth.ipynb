{
 "cells": [
  {
   "cell_type": "markdown",
   "id": "2728a0b2-447a-4669-be82-3752fb2762bd",
   "metadata": {},
   "source": [
    "# **Inequality and growth**\n",
    "\n",
    "In this project, I examine the evolution of the Gini coefficient in different countries, to then compare Gini coefficients and GDP per capita data in these same countries. I use data from the World Bank up to 2023, and base my analysis on the methods and procedures explained in Lecture 6 of \"A First Course in Quantitative Economics with Python\" by QuantEcon.\n",
    "\n",
    "__Name__: Jorge Pineño\n",
    "\n",
    "__LinkedIn__: www.linkedin.com/in/jorge-p-6118ba31b\n",
    "\n",
    "## Resources used:\n",
    "\n",
    "__World Bank GDP per capita data:__ https://data.worldbank.org/indicator/NY.GDP.PCAP.KD\n",
    "\n",
    "__World Bank Gini coefficient data:__ https://data.worldbank.org/indicator/SI.POV.GINI\n",
    "\n",
    "__QuantEcon Lecture:__ https://intro.quantecon.org/inequality.html"
   ]
  },
  {
   "cell_type": "code",
   "execution_count": 110,
   "id": "8718fd1f-aa53-4fcb-b8e1-c6d0beccd1c9",
   "metadata": {},
   "outputs": [],
   "source": [
    "# imports:\n",
    "import pandas as pd\n",
    "import numpy as np\n",
    "import matplotlib.pyplot as plt\n",
    "import random as rd\n",
    "import wbgapi as wb\n",
    "import plotly.express as px"
   ]
  },
  {
   "cell_type": "markdown",
   "id": "a67f0692-a330-40ef-bd00-9f691e5b9025",
   "metadata": {},
   "source": [
    "# **Gini coefficient**:"
   ]
  },
  {
   "cell_type": "code",
   "execution_count": 113,
   "id": "f661d31f-52cb-4935-a8ce-dc3d04c50d41",
   "metadata": {},
   "outputs": [
    {
     "data": {
      "text/plain": [
       "      economy\n",
       "1963  USA        37.6\n",
       "1964  USA        38.1\n",
       "1965  USA        37.5\n",
       "1966  USA        37.8\n",
       "1967  USA        36.9\n",
       "                 ... \n",
       "2022  ZMB        51.5\n",
       "2023  CRI        46.7\n",
       "      ECU        44.6\n",
       "      IDN        36.1\n",
       "      PAN        48.9\n",
       "Length: 2111, dtype: float64"
      ]
     },
     "execution_count": 113,
     "metadata": {},
     "output_type": "execute_result"
    }
   ],
   "source": [
    "# fetch Gini coefficient data for all countries from the World Bank:\n",
    "gini_all = wb.data.DataFrame(\"SI.POV.GINI\")\n",
    "# remove 'YR' in index and convert to integer:\n",
    "gini_all.columns = gini_all.columns.map(lambda x: int(x.replace('YR','')))\n",
    "# create a long series with a multi-index of the data:\n",
    "gini_all = gini_all.unstack(level='economy').dropna()\n",
    "gini_all"
   ]
  },
  {
   "cell_type": "code",
   "execution_count": 114,
   "id": "f3738b91-7d07-40d0-b85d-bec9b94708b0",
   "metadata": {},
   "outputs": [
    {
     "data": {
      "text/html": [
       "<div>\n",
       "<style scoped>\n",
       "    .dataframe tbody tr th:only-of-type {\n",
       "        vertical-align: middle;\n",
       "    }\n",
       "\n",
       "    .dataframe tbody tr th {\n",
       "        vertical-align: top;\n",
       "    }\n",
       "\n",
       "    .dataframe thead th {\n",
       "        text-align: right;\n",
       "    }\n",
       "</style>\n",
       "<table border=\"1\" class=\"dataframe\">\n",
       "  <thead>\n",
       "    <tr style=\"text-align: right;\">\n",
       "      <th>economy</th>\n",
       "      <th>USA</th>\n",
       "      <th>GBR</th>\n",
       "      <th>FRA</th>\n",
       "      <th>CAN</th>\n",
       "      <th>SWE</th>\n",
       "      <th>IND</th>\n",
       "      <th>ITA</th>\n",
       "      <th>ISR</th>\n",
       "      <th>NOR</th>\n",
       "      <th>PAN</th>\n",
       "      <th>...</th>\n",
       "      <th>ARE</th>\n",
       "      <th>SYC</th>\n",
       "      <th>RUS</th>\n",
       "      <th>LCA</th>\n",
       "      <th>MMR</th>\n",
       "      <th>QAT</th>\n",
       "      <th>TUR</th>\n",
       "      <th>GRD</th>\n",
       "      <th>MHL</th>\n",
       "      <th>SUR</th>\n",
       "    </tr>\n",
       "  </thead>\n",
       "  <tbody>\n",
       "    <tr>\n",
       "      <th>1963</th>\n",
       "      <td>37.6</td>\n",
       "      <td>NaN</td>\n",
       "      <td>NaN</td>\n",
       "      <td>NaN</td>\n",
       "      <td>NaN</td>\n",
       "      <td>NaN</td>\n",
       "      <td>NaN</td>\n",
       "      <td>NaN</td>\n",
       "      <td>NaN</td>\n",
       "      <td>NaN</td>\n",
       "      <td>...</td>\n",
       "      <td>NaN</td>\n",
       "      <td>NaN</td>\n",
       "      <td>NaN</td>\n",
       "      <td>NaN</td>\n",
       "      <td>NaN</td>\n",
       "      <td>NaN</td>\n",
       "      <td>NaN</td>\n",
       "      <td>NaN</td>\n",
       "      <td>NaN</td>\n",
       "      <td>NaN</td>\n",
       "    </tr>\n",
       "    <tr>\n",
       "      <th>1964</th>\n",
       "      <td>38.1</td>\n",
       "      <td>NaN</td>\n",
       "      <td>NaN</td>\n",
       "      <td>NaN</td>\n",
       "      <td>NaN</td>\n",
       "      <td>NaN</td>\n",
       "      <td>NaN</td>\n",
       "      <td>NaN</td>\n",
       "      <td>NaN</td>\n",
       "      <td>NaN</td>\n",
       "      <td>...</td>\n",
       "      <td>NaN</td>\n",
       "      <td>NaN</td>\n",
       "      <td>NaN</td>\n",
       "      <td>NaN</td>\n",
       "      <td>NaN</td>\n",
       "      <td>NaN</td>\n",
       "      <td>NaN</td>\n",
       "      <td>NaN</td>\n",
       "      <td>NaN</td>\n",
       "      <td>NaN</td>\n",
       "    </tr>\n",
       "    <tr>\n",
       "      <th>1965</th>\n",
       "      <td>37.5</td>\n",
       "      <td>NaN</td>\n",
       "      <td>NaN</td>\n",
       "      <td>NaN</td>\n",
       "      <td>NaN</td>\n",
       "      <td>NaN</td>\n",
       "      <td>NaN</td>\n",
       "      <td>NaN</td>\n",
       "      <td>NaN</td>\n",
       "      <td>NaN</td>\n",
       "      <td>...</td>\n",
       "      <td>NaN</td>\n",
       "      <td>NaN</td>\n",
       "      <td>NaN</td>\n",
       "      <td>NaN</td>\n",
       "      <td>NaN</td>\n",
       "      <td>NaN</td>\n",
       "      <td>NaN</td>\n",
       "      <td>NaN</td>\n",
       "      <td>NaN</td>\n",
       "      <td>NaN</td>\n",
       "    </tr>\n",
       "    <tr>\n",
       "      <th>1966</th>\n",
       "      <td>37.8</td>\n",
       "      <td>NaN</td>\n",
       "      <td>NaN</td>\n",
       "      <td>NaN</td>\n",
       "      <td>NaN</td>\n",
       "      <td>NaN</td>\n",
       "      <td>NaN</td>\n",
       "      <td>NaN</td>\n",
       "      <td>NaN</td>\n",
       "      <td>NaN</td>\n",
       "      <td>...</td>\n",
       "      <td>NaN</td>\n",
       "      <td>NaN</td>\n",
       "      <td>NaN</td>\n",
       "      <td>NaN</td>\n",
       "      <td>NaN</td>\n",
       "      <td>NaN</td>\n",
       "      <td>NaN</td>\n",
       "      <td>NaN</td>\n",
       "      <td>NaN</td>\n",
       "      <td>NaN</td>\n",
       "    </tr>\n",
       "    <tr>\n",
       "      <th>1967</th>\n",
       "      <td>36.9</td>\n",
       "      <td>NaN</td>\n",
       "      <td>NaN</td>\n",
       "      <td>NaN</td>\n",
       "      <td>NaN</td>\n",
       "      <td>NaN</td>\n",
       "      <td>NaN</td>\n",
       "      <td>NaN</td>\n",
       "      <td>NaN</td>\n",
       "      <td>NaN</td>\n",
       "      <td>...</td>\n",
       "      <td>NaN</td>\n",
       "      <td>NaN</td>\n",
       "      <td>NaN</td>\n",
       "      <td>NaN</td>\n",
       "      <td>NaN</td>\n",
       "      <td>NaN</td>\n",
       "      <td>NaN</td>\n",
       "      <td>NaN</td>\n",
       "      <td>NaN</td>\n",
       "      <td>NaN</td>\n",
       "    </tr>\n",
       "    <tr>\n",
       "      <th>...</th>\n",
       "      <td>...</td>\n",
       "      <td>...</td>\n",
       "      <td>...</td>\n",
       "      <td>...</td>\n",
       "      <td>...</td>\n",
       "      <td>...</td>\n",
       "      <td>...</td>\n",
       "      <td>...</td>\n",
       "      <td>...</td>\n",
       "      <td>...</td>\n",
       "      <td>...</td>\n",
       "      <td>...</td>\n",
       "      <td>...</td>\n",
       "      <td>...</td>\n",
       "      <td>...</td>\n",
       "      <td>...</td>\n",
       "      <td>...</td>\n",
       "      <td>...</td>\n",
       "      <td>...</td>\n",
       "      <td>...</td>\n",
       "      <td>...</td>\n",
       "    </tr>\n",
       "    <tr>\n",
       "      <th>2019</th>\n",
       "      <td>41.5</td>\n",
       "      <td>32.8</td>\n",
       "      <td>31.2</td>\n",
       "      <td>31.7</td>\n",
       "      <td>29.3</td>\n",
       "      <td>33.8</td>\n",
       "      <td>34.6</td>\n",
       "      <td>38.3</td>\n",
       "      <td>27.7</td>\n",
       "      <td>49.8</td>\n",
       "      <td>...</td>\n",
       "      <td>NaN</td>\n",
       "      <td>NaN</td>\n",
       "      <td>35.7</td>\n",
       "      <td>NaN</td>\n",
       "      <td>NaN</td>\n",
       "      <td>NaN</td>\n",
       "      <td>43.8</td>\n",
       "      <td>NaN</td>\n",
       "      <td>35.5</td>\n",
       "      <td>NaN</td>\n",
       "    </tr>\n",
       "    <tr>\n",
       "      <th>2020</th>\n",
       "      <td>39.7</td>\n",
       "      <td>32.6</td>\n",
       "      <td>30.7</td>\n",
       "      <td>NaN</td>\n",
       "      <td>28.9</td>\n",
       "      <td>33.8</td>\n",
       "      <td>35.2</td>\n",
       "      <td>37.8</td>\n",
       "      <td>NaN</td>\n",
       "      <td>NaN</td>\n",
       "      <td>...</td>\n",
       "      <td>NaN</td>\n",
       "      <td>NaN</td>\n",
       "      <td>33.7</td>\n",
       "      <td>NaN</td>\n",
       "      <td>NaN</td>\n",
       "      <td>NaN</td>\n",
       "      <td>43.0</td>\n",
       "      <td>NaN</td>\n",
       "      <td>NaN</td>\n",
       "      <td>NaN</td>\n",
       "    </tr>\n",
       "    <tr>\n",
       "      <th>2021</th>\n",
       "      <td>39.7</td>\n",
       "      <td>32.4</td>\n",
       "      <td>31.5</td>\n",
       "      <td>NaN</td>\n",
       "      <td>29.8</td>\n",
       "      <td>32.8</td>\n",
       "      <td>34.8</td>\n",
       "      <td>37.9</td>\n",
       "      <td>NaN</td>\n",
       "      <td>50.9</td>\n",
       "      <td>...</td>\n",
       "      <td>NaN</td>\n",
       "      <td>NaN</td>\n",
       "      <td>35.1</td>\n",
       "      <td>NaN</td>\n",
       "      <td>NaN</td>\n",
       "      <td>NaN</td>\n",
       "      <td>44.4</td>\n",
       "      <td>NaN</td>\n",
       "      <td>NaN</td>\n",
       "      <td>NaN</td>\n",
       "    </tr>\n",
       "    <tr>\n",
       "      <th>2022</th>\n",
       "      <td>41.3</td>\n",
       "      <td>NaN</td>\n",
       "      <td>NaN</td>\n",
       "      <td>NaN</td>\n",
       "      <td>NaN</td>\n",
       "      <td>NaN</td>\n",
       "      <td>NaN</td>\n",
       "      <td>NaN</td>\n",
       "      <td>NaN</td>\n",
       "      <td>NaN</td>\n",
       "      <td>...</td>\n",
       "      <td>NaN</td>\n",
       "      <td>NaN</td>\n",
       "      <td>NaN</td>\n",
       "      <td>NaN</td>\n",
       "      <td>NaN</td>\n",
       "      <td>NaN</td>\n",
       "      <td>NaN</td>\n",
       "      <td>NaN</td>\n",
       "      <td>NaN</td>\n",
       "      <td>39.2</td>\n",
       "    </tr>\n",
       "    <tr>\n",
       "      <th>2023</th>\n",
       "      <td>NaN</td>\n",
       "      <td>NaN</td>\n",
       "      <td>NaN</td>\n",
       "      <td>NaN</td>\n",
       "      <td>NaN</td>\n",
       "      <td>NaN</td>\n",
       "      <td>NaN</td>\n",
       "      <td>NaN</td>\n",
       "      <td>NaN</td>\n",
       "      <td>48.9</td>\n",
       "      <td>...</td>\n",
       "      <td>NaN</td>\n",
       "      <td>NaN</td>\n",
       "      <td>NaN</td>\n",
       "      <td>NaN</td>\n",
       "      <td>NaN</td>\n",
       "      <td>NaN</td>\n",
       "      <td>NaN</td>\n",
       "      <td>NaN</td>\n",
       "      <td>NaN</td>\n",
       "      <td>NaN</td>\n",
       "    </tr>\n",
       "  </tbody>\n",
       "</table>\n",
       "<p>61 rows × 169 columns</p>\n",
       "</div>"
      ],
      "text/plain": [
       "economy   USA   GBR   FRA   CAN   SWE   IND   ITA   ISR   NOR   PAN  ...  ARE  \\\n",
       "1963     37.6   NaN   NaN   NaN   NaN   NaN   NaN   NaN   NaN   NaN  ...  NaN   \n",
       "1964     38.1   NaN   NaN   NaN   NaN   NaN   NaN   NaN   NaN   NaN  ...  NaN   \n",
       "1965     37.5   NaN   NaN   NaN   NaN   NaN   NaN   NaN   NaN   NaN  ...  NaN   \n",
       "1966     37.8   NaN   NaN   NaN   NaN   NaN   NaN   NaN   NaN   NaN  ...  NaN   \n",
       "1967     36.9   NaN   NaN   NaN   NaN   NaN   NaN   NaN   NaN   NaN  ...  NaN   \n",
       "...       ...   ...   ...   ...   ...   ...   ...   ...   ...   ...  ...  ...   \n",
       "2019     41.5  32.8  31.2  31.7  29.3  33.8  34.6  38.3  27.7  49.8  ...  NaN   \n",
       "2020     39.7  32.6  30.7   NaN  28.9  33.8  35.2  37.8   NaN   NaN  ...  NaN   \n",
       "2021     39.7  32.4  31.5   NaN  29.8  32.8  34.8  37.9   NaN  50.9  ...  NaN   \n",
       "2022     41.3   NaN   NaN   NaN   NaN   NaN   NaN   NaN   NaN   NaN  ...  NaN   \n",
       "2023      NaN   NaN   NaN   NaN   NaN   NaN   NaN   NaN   NaN  48.9  ...  NaN   \n",
       "\n",
       "economy  SYC   RUS  LCA  MMR  QAT   TUR  GRD   MHL   SUR  \n",
       "1963     NaN   NaN  NaN  NaN  NaN   NaN  NaN   NaN   NaN  \n",
       "1964     NaN   NaN  NaN  NaN  NaN   NaN  NaN   NaN   NaN  \n",
       "1965     NaN   NaN  NaN  NaN  NaN   NaN  NaN   NaN   NaN  \n",
       "1966     NaN   NaN  NaN  NaN  NaN   NaN  NaN   NaN   NaN  \n",
       "1967     NaN   NaN  NaN  NaN  NaN   NaN  NaN   NaN   NaN  \n",
       "...      ...   ...  ...  ...  ...   ...  ...   ...   ...  \n",
       "2019     NaN  35.7  NaN  NaN  NaN  43.8  NaN  35.5   NaN  \n",
       "2020     NaN  33.7  NaN  NaN  NaN  43.0  NaN   NaN   NaN  \n",
       "2021     NaN  35.1  NaN  NaN  NaN  44.4  NaN   NaN   NaN  \n",
       "2022     NaN   NaN  NaN  NaN  NaN   NaN  NaN   NaN  39.2  \n",
       "2023     NaN   NaN  NaN  NaN  NaN   NaN  NaN   NaN   NaN  \n",
       "\n",
       "[61 rows x 169 columns]"
      ]
     },
     "execution_count": 114,
     "metadata": {},
     "output_type": "execute_result"
    }
   ],
   "source": [
    "# unstack data to get countries as columns:\n",
    "gini = gini_all.unstack()\n",
    "gini"
   ]
  },
  {
   "cell_type": "code",
   "execution_count": 115,
   "id": "c84cb2ac-2533-436c-88c0-1abd8e0ba5dd",
   "metadata": {},
   "outputs": [
    {
     "data": {
      "text/plain": [
       "Index(['USA', 'GBR', 'FRA', 'CAN', 'SWE', 'IND', 'ITA', 'ISR', 'NOR', 'PAN',\n",
       "       ...\n",
       "       'ARE', 'SYC', 'RUS', 'LCA', 'MMR', 'QAT', 'TUR', 'GRD', 'MHL', 'SUR'],\n",
       "      dtype='object', name='economy', length=169)"
      ]
     },
     "execution_count": 115,
     "metadata": {},
     "output_type": "execute_result"
    }
   ],
   "source": [
    "# check countries included:\n",
    "gini.columns"
   ]
  },
  {
   "cell_type": "code",
   "execution_count": 116,
   "id": "b39c2a50-91d8-4d65-a394-fc685a576f21",
   "metadata": {},
   "outputs": [
    {
     "data": {
      "image/png": "[encoded data removed]",
      "text/plain": [
       "<Figure size 640x480 with 1 Axes>"
      ]
     },
     "metadata": {},
     "output_type": "display_data"
    }
   ],
   "source": [
    "# compare data for the USA, the UK, Sweden, Japan, China, France, and Germany:\n",
    "ax = gini[['USA','GBR', 'SWE', 'JPN', 'CHN', 'FRA', 'DEU']].plot()\n",
    "ax.set_xlabel('year')\n",
    "ax.set_ylabel('Gini coefficient')\n",
    "ax.legend(title=\"\")\n",
    "plt.show()"
   ]
  },
  {
   "cell_type": "code",
   "execution_count": 117,
   "id": "050e1002-71d6-4e37-930c-15a269033464",
   "metadata": {},
   "outputs": [
    {
     "data": {
      "image/png": "[encoded data removed]",
      "text/plain": [
       "<Figure size 640x480 with 1 Axes>"
      ]
     },
     "metadata": {},
     "output_type": "display_data"
    }
   ],
   "source": [
    "# copy and bring forward the last known values of China, France, Germany, Japan,\n",
    "# and Sweden to fill in the gaps in their Gini data:\n",
    "gini['SWE'] = gini['SWE'].ffill()\n",
    "gini['JPN'] = gini['JPN'].ffill()\n",
    "gini['CHN'] = gini['CHN'].ffill()\n",
    "gini['FRA'] = gini['FRA'].ffill()\n",
    "gini['DEU'] = gini['DEU'].ffill()\n",
    "\n",
    "ax = gini[['USA','GBR', 'SWE', 'JPN', 'CHN', 'FRA', 'DEU']].plot()\n",
    "ax.set_xlabel('year')\n",
    "ax.set_ylabel('Gini coefficient')\n",
    "ax.legend(title=\"\")\n",
    "plt.show()"
   ]
  },
  {
   "cell_type": "markdown",
   "id": "29a499fe-22fe-4dec-84fb-2b1c1346b57f",
   "metadata": {},
   "source": [
    "# **Gini Coefficient and GDP per capita**:"
   ]
  },
  {
   "cell_type": "code",
   "execution_count": 119,
   "id": "cc074f4b-410e-4b49-9a93-8b91830d8307",
   "metadata": {},
   "outputs": [
    {
     "data": {
      "text/html": [
       "<div>\n",
       "<style scoped>\n",
       "    .dataframe tbody tr th:only-of-type {\n",
       "        vertical-align: middle;\n",
       "    }\n",
       "\n",
       "    .dataframe tbody tr th {\n",
       "        vertical-align: top;\n",
       "    }\n",
       "\n",
       "    .dataframe thead th {\n",
       "        text-align: right;\n",
       "    }\n",
       "</style>\n",
       "<table border=\"1\" class=\"dataframe\">\n",
       "  <thead>\n",
       "    <tr style=\"text-align: right;\">\n",
       "      <th>economy</th>\n",
       "      <th>CHN</th>\n",
       "      <th>DEU</th>\n",
       "      <th>FRA</th>\n",
       "      <th>GBR</th>\n",
       "      <th>JPN</th>\n",
       "      <th>SWE</th>\n",
       "      <th>USA</th>\n",
       "    </tr>\n",
       "  </thead>\n",
       "  <tbody>\n",
       "    <tr>\n",
       "      <th>1960</th>\n",
       "      <td>238.217052</td>\n",
       "      <td>12600.327397</td>\n",
       "      <td>10733.303895</td>\n",
       "      <td>15136.024598</td>\n",
       "      <td>6388.878101</td>\n",
       "      <td>16812.151634</td>\n",
       "      <td>18991.544603</td>\n",
       "    </tr>\n",
       "    <tr>\n",
       "      <th>1961</th>\n",
       "      <td>175.023681</td>\n",
       "      <td>13041.159470</td>\n",
       "      <td>11133.147072</td>\n",
       "      <td>15427.131804</td>\n",
       "      <td>7094.470465</td>\n",
       "      <td>17683.797589</td>\n",
       "      <td>19108.935365</td>\n",
       "    </tr>\n",
       "    <tr>\n",
       "      <th>1962</th>\n",
       "      <td>163.907044</td>\n",
       "      <td>13524.649105</td>\n",
       "      <td>11779.290379</td>\n",
       "      <td>15464.826607</td>\n",
       "      <td>7655.055260</td>\n",
       "      <td>18335.552515</td>\n",
       "      <td>19965.143575</td>\n",
       "    </tr>\n",
       "    <tr>\n",
       "      <th>1963</th>\n",
       "      <td>176.400456</td>\n",
       "      <td>13766.535536</td>\n",
       "      <td>12384.536589</td>\n",
       "      <td>16095.442136</td>\n",
       "      <td>8219.987397</td>\n",
       "      <td>19203.913260</td>\n",
       "      <td>20545.784245</td>\n",
       "    </tr>\n",
       "    <tr>\n",
       "      <th>1964</th>\n",
       "      <td>203.687834</td>\n",
       "      <td>14562.835887</td>\n",
       "      <td>13040.566707</td>\n",
       "      <td>16885.792769</td>\n",
       "      <td>9084.795181</td>\n",
       "      <td>20361.152424</td>\n",
       "      <td>21437.584070</td>\n",
       "    </tr>\n",
       "    <tr>\n",
       "      <th>...</th>\n",
       "      <td>...</td>\n",
       "      <td>...</td>\n",
       "      <td>...</td>\n",
       "      <td>...</td>\n",
       "      <td>...</td>\n",
       "      <td>...</td>\n",
       "      <td>...</td>\n",
       "    </tr>\n",
       "    <tr>\n",
       "      <th>2019</th>\n",
       "      <td>10155.510883</td>\n",
       "      <td>44207.632052</td>\n",
       "      <td>38705.207300</td>\n",
       "      <td>47234.246607</td>\n",
       "      <td>36043.784401</td>\n",
       "      <td>53156.861309</td>\n",
       "      <td>61400.548154</td>\n",
       "    </tr>\n",
       "    <tr>\n",
       "      <th>2020</th>\n",
       "      <td>10358.169997</td>\n",
       "      <td>42362.647214</td>\n",
       "      <td>35709.204586</td>\n",
       "      <td>42215.883745</td>\n",
       "      <td>34650.796780</td>\n",
       "      <td>51715.781041</td>\n",
       "      <td>59493.145982</td>\n",
       "    </tr>\n",
       "    <tr>\n",
       "      <th>2021</th>\n",
       "      <td>11223.255348</td>\n",
       "      <td>43898.771317</td>\n",
       "      <td>38030.857173</td>\n",
       "      <td>45873.869597</td>\n",
       "      <td>35701.454272</td>\n",
       "      <td>54458.353560</td>\n",
       "      <td>62996.289384</td>\n",
       "    </tr>\n",
       "    <tr>\n",
       "      <th>2022</th>\n",
       "      <td>11555.930238</td>\n",
       "      <td>44180.429839</td>\n",
       "      <td>38881.223065</td>\n",
       "      <td>47551.229656</td>\n",
       "      <td>36202.639275</td>\n",
       "      <td>54878.291951</td>\n",
       "      <td>64342.117938</td>\n",
       "    </tr>\n",
       "    <tr>\n",
       "      <th>2023</th>\n",
       "      <td>12175.196115</td>\n",
       "      <td>44336.777516</td>\n",
       "      <td>39117.484501</td>\n",
       "      <td>47322.668224</td>\n",
       "      <td>36990.330114</td>\n",
       "      <td>54449.798204</td>\n",
       "      <td>65875.177881</td>\n",
       "    </tr>\n",
       "  </tbody>\n",
       "</table>\n",
       "<p>64 rows × 7 columns</p>\n",
       "</div>"
      ],
      "text/plain": [
       "economy           CHN           DEU           FRA           GBR           JPN  \\\n",
       "1960       238.217052  12600.327397  10733.303895  15136.024598   6388.878101   \n",
       "1961       175.023681  13041.159470  11133.147072  15427.131804   7094.470465   \n",
       "1962       163.907044  13524.649105  11779.290379  15464.826607   7655.055260   \n",
       "1963       176.400456  13766.535536  12384.536589  16095.442136   8219.987397   \n",
       "1964       203.687834  14562.835887  13040.566707  16885.792769   9084.795181   \n",
       "...               ...           ...           ...           ...           ...   \n",
       "2019     10155.510883  44207.632052  38705.207300  47234.246607  36043.784401   \n",
       "2020     10358.169997  42362.647214  35709.204586  42215.883745  34650.796780   \n",
       "2021     11223.255348  43898.771317  38030.857173  45873.869597  35701.454272   \n",
       "2022     11555.930238  44180.429839  38881.223065  47551.229656  36202.639275   \n",
       "2023     12175.196115  44336.777516  39117.484501  47322.668224  36990.330114   \n",
       "\n",
       "economy           SWE           USA  \n",
       "1960     16812.151634  18991.544603  \n",
       "1961     17683.797589  19108.935365  \n",
       "1962     18335.552515  19965.143575  \n",
       "1963     19203.913260  20545.784245  \n",
       "1964     20361.152424  21437.584070  \n",
       "...               ...           ...  \n",
       "2019     53156.861309  61400.548154  \n",
       "2020     51715.781041  59493.145982  \n",
       "2021     54458.353560  62996.289384  \n",
       "2022     54878.291951  64342.117938  \n",
       "2023     54449.798204  65875.177881  \n",
       "\n",
       "[64 rows x 7 columns]"
      ]
     },
     "execution_count": 119,
     "metadata": {},
     "output_type": "execute_result"
    }
   ],
   "source": [
    "# fetch GDP per capita data from the World Bank for our countries:\n",
    "countries = ['USA','GBR', 'SWE', 'JPN', 'CHN', 'FRA', 'DEU']\n",
    "gdppc = wb.data.DataFrame(\"NY.GDP.PCAP.KD\", countries)\n",
    "# remove 'YR' in index and convert to integer:\n",
    "gdppc.columns = gdppc.columns.map(lambda x: int(x.replace('YR',''))) \n",
    "gdppc = gdppc.T\n",
    "gdppc"
   ]
  },
  {
   "cell_type": "code",
   "execution_count": 120,
   "id": "4a7eb38b-8c73-4e34-89ed-20c5ccd91019",
   "metadata": {},
   "outputs": [
    {
     "data": {
      "text/html": [
       "<div>\n",
       "<style scoped>\n",
       "    .dataframe tbody tr th:only-of-type {\n",
       "        vertical-align: middle;\n",
       "    }\n",
       "\n",
       "    .dataframe tbody tr th {\n",
       "        vertical-align: top;\n",
       "    }\n",
       "\n",
       "    .dataframe thead th {\n",
       "        text-align: right;\n",
       "    }\n",
       "</style>\n",
       "<table border=\"1\" class=\"dataframe\">\n",
       "  <thead>\n",
       "    <tr style=\"text-align: right;\">\n",
       "      <th></th>\n",
       "      <th></th>\n",
       "      <th>gini</th>\n",
       "    </tr>\n",
       "    <tr>\n",
       "      <th>country</th>\n",
       "      <th>year</th>\n",
       "      <th></th>\n",
       "    </tr>\n",
       "  </thead>\n",
       "  <tbody>\n",
       "    <tr>\n",
       "      <th rowspan=\"5\" valign=\"top\">USA</th>\n",
       "      <th>1963</th>\n",
       "      <td>37.6</td>\n",
       "    </tr>\n",
       "    <tr>\n",
       "      <th>1964</th>\n",
       "      <td>38.1</td>\n",
       "    </tr>\n",
       "    <tr>\n",
       "      <th>1965</th>\n",
       "      <td>37.5</td>\n",
       "    </tr>\n",
       "    <tr>\n",
       "      <th>1966</th>\n",
       "      <td>37.8</td>\n",
       "    </tr>\n",
       "    <tr>\n",
       "      <th>1967</th>\n",
       "      <td>36.9</td>\n",
       "    </tr>\n",
       "    <tr>\n",
       "      <th>...</th>\n",
       "      <th>...</th>\n",
       "      <td>...</td>\n",
       "    </tr>\n",
       "    <tr>\n",
       "      <th rowspan=\"5\" valign=\"top\">DEU</th>\n",
       "      <th>2019</th>\n",
       "      <td>31.8</td>\n",
       "    </tr>\n",
       "    <tr>\n",
       "      <th>2020</th>\n",
       "      <td>32.4</td>\n",
       "    </tr>\n",
       "    <tr>\n",
       "      <th>2021</th>\n",
       "      <td>32.4</td>\n",
       "    </tr>\n",
       "    <tr>\n",
       "      <th>2022</th>\n",
       "      <td>32.4</td>\n",
       "    </tr>\n",
       "    <tr>\n",
       "      <th>2023</th>\n",
       "      <td>32.4</td>\n",
       "    </tr>\n",
       "  </tbody>\n",
       "</table>\n",
       "<p>427 rows × 1 columns</p>\n",
       "</div>"
      ],
      "text/plain": [
       "              gini\n",
       "country year      \n",
       "USA     1963  37.6\n",
       "        1964  38.1\n",
       "        1965  37.5\n",
       "        1966  37.8\n",
       "        1967  36.9\n",
       "...            ...\n",
       "DEU     2019  31.8\n",
       "        2020  32.4\n",
       "        2021  32.4\n",
       "        2022  32.4\n",
       "        2023  32.4\n",
       "\n",
       "[427 rows x 1 columns]"
      ]
     },
     "execution_count": 120,
     "metadata": {},
     "output_type": "execute_result"
    }
   ],
   "source": [
    "# rearrange data to plot GDP per capita and Gini coefficient across time:\n",
    "plot_data = pd.DataFrame(gini[countries].unstack())\n",
    "plot_data.index.names = ['country', 'year']\n",
    "plot_data.columns = ['gini']\n",
    "plot_data"
   ]
  },
  {
   "cell_type": "code",
   "execution_count": 121,
   "id": "8bdd406c-e314-422a-ba19-932ae916da3f",
   "metadata": {},
   "outputs": [
    {
     "data": {
      "text/html": [
       "<div>\n",
       "<style scoped>\n",
       "    .dataframe tbody tr th:only-of-type {\n",
       "        vertical-align: middle;\n",
       "    }\n",
       "\n",
       "    .dataframe tbody tr th {\n",
       "        vertical-align: top;\n",
       "    }\n",
       "\n",
       "    .dataframe thead th {\n",
       "        text-align: right;\n",
       "    }\n",
       "</style>\n",
       "<table border=\"1\" class=\"dataframe\">\n",
       "  <thead>\n",
       "    <tr style=\"text-align: right;\">\n",
       "      <th></th>\n",
       "      <th>country</th>\n",
       "      <th>year</th>\n",
       "      <th>gini</th>\n",
       "      <th>gdppc</th>\n",
       "    </tr>\n",
       "  </thead>\n",
       "  <tbody>\n",
       "    <tr>\n",
       "      <th>0</th>\n",
       "      <td>USA</td>\n",
       "      <td>1963</td>\n",
       "      <td>37.6</td>\n",
       "      <td>20545.784245</td>\n",
       "    </tr>\n",
       "    <tr>\n",
       "      <th>1</th>\n",
       "      <td>USA</td>\n",
       "      <td>1964</td>\n",
       "      <td>38.1</td>\n",
       "      <td>21437.584070</td>\n",
       "    </tr>\n",
       "    <tr>\n",
       "      <th>2</th>\n",
       "      <td>USA</td>\n",
       "      <td>1965</td>\n",
       "      <td>37.5</td>\n",
       "      <td>22526.205515</td>\n",
       "    </tr>\n",
       "    <tr>\n",
       "      <th>3</th>\n",
       "      <td>USA</td>\n",
       "      <td>1966</td>\n",
       "      <td>37.8</td>\n",
       "      <td>23714.939028</td>\n",
       "    </tr>\n",
       "    <tr>\n",
       "      <th>4</th>\n",
       "      <td>USA</td>\n",
       "      <td>1967</td>\n",
       "      <td>36.9</td>\n",
       "      <td>24044.565128</td>\n",
       "    </tr>\n",
       "    <tr>\n",
       "      <th>...</th>\n",
       "      <td>...</td>\n",
       "      <td>...</td>\n",
       "      <td>...</td>\n",
       "      <td>...</td>\n",
       "    </tr>\n",
       "    <tr>\n",
       "      <th>422</th>\n",
       "      <td>DEU</td>\n",
       "      <td>2019</td>\n",
       "      <td>31.8</td>\n",
       "      <td>44207.632052</td>\n",
       "    </tr>\n",
       "    <tr>\n",
       "      <th>423</th>\n",
       "      <td>DEU</td>\n",
       "      <td>2020</td>\n",
       "      <td>32.4</td>\n",
       "      <td>42362.647214</td>\n",
       "    </tr>\n",
       "    <tr>\n",
       "      <th>424</th>\n",
       "      <td>DEU</td>\n",
       "      <td>2021</td>\n",
       "      <td>32.4</td>\n",
       "      <td>43898.771317</td>\n",
       "    </tr>\n",
       "    <tr>\n",
       "      <th>425</th>\n",
       "      <td>DEU</td>\n",
       "      <td>2022</td>\n",
       "      <td>32.4</td>\n",
       "      <td>44180.429839</td>\n",
       "    </tr>\n",
       "    <tr>\n",
       "      <th>426</th>\n",
       "      <td>DEU</td>\n",
       "      <td>2023</td>\n",
       "      <td>32.4</td>\n",
       "      <td>44336.777516</td>\n",
       "    </tr>\n",
       "  </tbody>\n",
       "</table>\n",
       "<p>427 rows × 4 columns</p>\n",
       "</div>"
      ],
      "text/plain": [
       "    country  year  gini         gdppc\n",
       "0       USA  1963  37.6  20545.784245\n",
       "1       USA  1964  38.1  21437.584070\n",
       "2       USA  1965  37.5  22526.205515\n",
       "3       USA  1966  37.8  23714.939028\n",
       "4       USA  1967  36.9  24044.565128\n",
       "..      ...   ...   ...           ...\n",
       "422     DEU  2019  31.8  44207.632052\n",
       "423     DEU  2020  32.4  42362.647214\n",
       "424     DEU  2021  32.4  43898.771317\n",
       "425     DEU  2022  32.4  44180.429839\n",
       "426     DEU  2023  32.4  44336.777516\n",
       "\n",
       "[427 rows x 4 columns]"
      ]
     },
     "execution_count": 121,
     "metadata": {},
     "output_type": "execute_result"
    }
   ],
   "source": [
    "# get GDP per capita data into a shape compatible with plot_data:\n",
    "pgdppc = pd.DataFrame(gdppc.unstack())\n",
    "pgdppc.index.names = ['country', 'year']\n",
    "pgdppc.columns = ['gdppc']\n",
    "plot_data = plot_data.merge(pgdppc, left_index=True, right_index=True)\n",
    "plot_data.reset_index(inplace=True)\n",
    "plot_data"
   ]
  },
  {
   "cell_type": "code",
   "execution_count": 122,
   "id": "7f317c7b-d529-4ee2-8262-cf017fd6820b",
   "metadata": {},
   "outputs": [
    {
     "data": {
      "text/plain": [
       "(1963, 2023)"
      ]
     },
     "execution_count": 122,
     "metadata": {},
     "output_type": "execute_result"
    }
   ],
   "source": [
    "# get the minimum and maximum years for our data:\n",
    "min_year = plot_data.year.min()\n",
    "max_year = plot_data.year.max()\n",
    "min_year, max_year"
   ]
  },
  {
   "cell_type": "code",
   "execution_count": 123,
   "id": "60cb097e-73d8-4729-baa0-6a6f6c09723c",
   "metadata": {},
   "outputs": [],
   "source": [
    "# add a mask to the data to include the different\n",
    "# end years of each country's time series:\n",
    "labels = [1979, 1986, 1991, 1995, 2000, 2020, 2021, 2022] + \\\n",
    "         list(range(min_year,max_year,5))\n",
    "plot_data.year = plot_data.year.map(lambda x: x if x in labels else None)"
   ]
  },
  {
   "cell_type": "code",
   "execution_count": 124,
   "id": "010f3039-c7f4-4045-bcde-2fd4768d70b2",
   "metadata": {},
   "outputs": [
    {
     "data": {
      "application/vnd.plotly.v1+json": {
       "config": {
        "plotlyServerURL": "https://plot.ly"
       },
       "data": [
        {
         "hovertemplate": "country=USA<br>Gini coefficient=%{x}<br>GDP per capita=%{y}<br>year=%{text}<extra></extra>",
         "legendgroup": "USA",
         "line": {
          "color": "#636efa",
          "dash": "solid"
         },
         "marker": {
          "symbol": "circle"
         },
         "mode": "lines+markers+text",
         "name": "USA",
         "orientation": "v",
         "showlegend": true,
         "text": [
          1963,
          null,
          null,
          null,
          null,
          1968,
          null,
          null,
          null,
          null,
          1973,
          null,
          null,
          null,
          null,
          1978,
          1979,
          null,
          null,
          null,
          1983,
          null,
          null,
          1986,
          null,
          1988,
          null,
          null,
          1991,
          null,
          1993,
          null,
          1995,
          null,
          null,
          1998,
          null,
          2000,
          null,
          null,
          2003,
          null,
          null,
          null,
          null,
          2008,
          null,
          null,
          null,
          null,
          2013,
          null,
          null,
          null,
          null,
          2018,
          null,
          2020,
          2021,
          2022,
          null
         ],
         "textposition": "bottom right",
         "type": "scatter",
         "x": [
          37.6,
          38.1,
          37.5,
          37.8,
          36.9,
          36.3,
          36,
          36.6,
          36.9,
          36.7,
          36.1,
          35.5,
          35.6,
          35.6,
          35.5,
          34.8,
          34.8,
          34.7,
          35.5,
          36.7,
          37.3,
          37.3,
          37.6,
          37.6,
          37.2,
          37.7,
          38.2,
          38.3,
          38,
          38.4,
          40.4,
          40,
          39.9,
          40.3,
          40.5,
          40,
          40,
          40.1,
          40.6,
          40.4,
          40.8,
          40.3,
          41,
          41.4,
          40.8,
          40.8,
          40.6,
          40,
          40.9,
          40.9,
          40.6,
          41.5,
          41.2,
          41.1,
          41.2,
          41.4,
          41.5,
          39.7,
          39.7,
          41.3,
          null
         ],
         "xaxis": "x",
         "y": [
          20545.7842453942,
          21437.5840704395,
          22526.2055148551,
          23714.9390278431,
          24044.565127902,
          24948.3568987924,
          25471.6161786519,
          25231.1271579892,
          25734.4828350051,
          26798.5336071197,
          28042.5519161527,
          27637.2997746126,
          27309.8688169354,
          28509.1430550141,
          29528.9663683544,
          30834.9992317542,
          31462.1003887938,
          31081.6216349433,
          31559.1293394228,
          30696.0834354928,
          31810.921609807,
          33818.8235513622,
          34918.1302012407,
          35794.8877746915,
          36701.9453875331,
          37889.3773471466,
          38911.5418950729,
          39200.0658112434,
          38637.8398140572,
          39447.9472855283,
          40002.4762252856,
          41106.9881843679,
          41710.8207249566,
          42783.8165697825,
          44151.6860414367,
          45596.4306843475,
          47234.2455275229,
          48616.25462578,
          48597.4246142005,
          48967.3661201159,
          49905.5233074236,
          51348.3473376223,
          52649.5713054684,
          53596.3152372,
          54152.8292651299,
          53703.9628961266,
          51863.6183411923,
          52821.4047643404,
          53259.2552138539,
          54080.2286497215,
          54844.2425797154,
          55817.5632471958,
          57040.2082136605,
          57658.6708825722,
          58703.1440780161,
          60127.2102762459,
          61400.5481543687,
          59493.1459820135,
          62996.2893837444,
          64342.1179383761,
          65875.177881434
         ],
         "yaxis": "y"
        },
        {
         "hovertemplate": "country=GBR<br>Gini coefficient=%{x}<br>GDP per capita=%{y}<br>year=%{text}<extra></extra>",
         "legendgroup": "GBR",
         "line": {
          "color": "#EF553B",
          "dash": "solid"
         },
         "marker": {
          "symbol": "circle"
         },
         "mode": "lines+markers+text",
         "name": "GBR",
         "orientation": "v",
         "showlegend": true,
         "text": [
          1963,
          null,
          null,
          null,
          null,
          1968,
          null,
          null,
          null,
          null,
          1973,
          null,
          null,
          null,
          null,
          1978,
          1979,
          null,
          null,
          null,
          1983,
          null,
          null,
          1986,
          null,
          1988,
          null,
          null,
          1991,
          null,
          1993,
          null,
          1995,
          null,
          null,
          1998,
          null,
          2000,
          null,
          null,
          2003,
          null,
          null,
          null,
          null,
          2008,
          null,
          null,
          null,
          null,
          2013,
          null,
          null,
          null,
          null,
          2018,
          null,
          2020,
          2021,
          2022,
          null
         ],
         "textposition": "bottom right",
         "type": "scatter",
         "x": [
          null,
          null,
          null,
          null,
          null,
          26.8,
          27.9,
          28,
          29.3,
          28.8,
          28.8,
          29,
          27.9,
          27.6,
          27.1,
          27.2,
          27.4,
          28.5,
          29.7,
          29.9,
          29.8,
          29.2,
          30.4,
          31.9,
          33.9,
          34.3,
          33.4,
          35.7,
          35,
          35,
          35.1,
          36,
          35.5,
          35.3,
          35.7,
          36.6,
          36.8,
          38.8,
          37.1,
          35.1,
          34.9,
          34.8,
          35.5,
          35.9,
          34.4,
          35.4,
          35.1,
          33.7,
          33.2,
          33.1,
          32.7,
          33.1,
          33.3,
          33.1,
          32.6,
          33.7,
          32.8,
          32.6,
          32.4,
          null,
          null
         ],
         "xaxis": "x",
         "y": [
          16095.4421361819,
          16885.7927685308,
          17135.0744777669,
          17307.9752221483,
          17692.8583969032,
          18570.518441756,
          18852.0756535557,
          19285.6497580384,
          19878.3583978709,
          20667.2421984769,
          21973.049199207,
          21413.6423410849,
          21099.6465634208,
          21719.0454973407,
          22260.1620137046,
          23194.7939530158,
          24042.7876858071,
          23526.2554939436,
          23332.802577182,
          23806.798102773,
          24803.4271654098,
          25326.1296682539,
          26316.7154240545,
          27082.9819399054,
          28482.8666688606,
          30048.8206598875,
          30743.2275109139,
          30876.3706304517,
          30441.4813488187,
          30481.0348859844,
          31165.1544568281,
          32281.4801527014,
          33011.2945610583,
          33777.5280893285,
          35349.7906529645,
          36446.26168577,
          37435.8844440997,
          38921.8965742615,
          39769.8719588505,
          40312.982402183,
          41390.6062114686,
          42167.3557140489,
          43023.2276941486,
          43724.8957170161,
          44524.5707052861,
          44065.6156615172,
          41712.8319038271,
          42311.4329860219,
          42459.9629998419,
          42802.0207834042,
          43281.5764200721,
          44336.537861323,
          44964.3911437292,
          45482.4668618551,
          46374.5811167058,
          46742.1481190493,
          47234.2466070513,
          42215.8837450989,
          45873.869597011,
          47551.2296562184,
          47322.6682239254
         ],
         "yaxis": "y"
        },
        {
         "hovertemplate": "country=SWE<br>Gini coefficient=%{x}<br>GDP per capita=%{y}<br>year=%{text}<extra></extra>",
         "legendgroup": "SWE",
         "line": {
          "color": "#00cc96",
          "dash": "solid"
         },
         "marker": {
          "symbol": "circle"
         },
         "mode": "lines+markers+text",
         "name": "SWE",
         "orientation": "v",
         "showlegend": true,
         "text": [
          1963,
          null,
          null,
          null,
          null,
          1968,
          null,
          null,
          null,
          null,
          1973,
          null,
          null,
          null,
          null,
          1978,
          1979,
          null,
          null,
          null,
          1983,
          null,
          null,
          1986,
          null,
          1988,
          null,
          null,
          1991,
          null,
          1993,
          null,
          1995,
          null,
          null,
          1998,
          null,
          2000,
          null,
          null,
          2003,
          null,
          null,
          null,
          null,
          2008,
          null,
          null,
          null,
          null,
          2013,
          null,
          null,
          null,
          null,
          2018,
          null,
          2020,
          2021,
          2022,
          null
         ],
         "textposition": "bottom right",
         "type": "scatter",
         "x": [
          null,
          null,
          null,
          null,
          null,
          null,
          null,
          null,
          null,
          null,
          null,
          null,
          24.3,
          24.3,
          24.3,
          24.3,
          24.3,
          24.3,
          22.9,
          22.9,
          22.9,
          22.9,
          22.9,
          22.9,
          23.1,
          23.1,
          23.1,
          23.1,
          23.1,
          24.9,
          24.9,
          24.9,
          25.2,
          25.2,
          25.2,
          25.2,
          25.2,
          27,
          26.5,
          26.2,
          25.3,
          26.1,
          26.8,
          26.4,
          27.1,
          28.1,
          27.3,
          27.7,
          27.6,
          27.6,
          28.8,
          28.4,
          29.2,
          29.6,
          28.8,
          30,
          29.3,
          28.9,
          29.8,
          29.8,
          29.8
         ],
         "xaxis": "x",
         "y": [
          19203.9132600174,
          20361.1524238685,
          20941.0909432355,
          21176.4666220693,
          21721.8399978607,
          22386.0274483069,
          23342.7425016141,
          24622.947878957,
          24685.1047786533,
          25175.5783894299,
          26129.4639468973,
          26887.0053913592,
          27464.0686210301,
          27653.9107272497,
          27116.0070001824,
          27510.7438516574,
          28504.8851836266,
          28930.6721003824,
          29027.4269109053,
          29373.0783683788,
          29917.8065169672,
          31154.8675252983,
          31775.4021053726,
          32554.7804658913,
          33534.5321337656,
          34234.9882140715,
          34910.1676505081,
          34902.9205848639,
          34268.5547150561,
          33673.4365945351,
          32786.8795033975,
          33861.971357929,
          35063.9008956006,
          35604.9683604031,
          36675.2077147134,
          38211.1186220399,
          39785.3801572029,
          41561.0967168749,
          42013.7004264801,
          42831.0188619575,
          43474.579217835,
          45113.8308513761,
          46188.8411079246,
          48077.4408695625,
          49261.2399453051,
          48427.7563778,
          45973.5537675417,
          48204.6580784176,
          49355.6899419737,
          48788.8671231037,
          48927.5973053354,
          49556.7005007699,
          51197.9529341175,
          51746.6969632478,
          51985.932464245,
          52363.3829181296,
          53156.8613091273,
          51715.78104096,
          54458.3535600817,
          54878.2919511876,
          54449.7982042953
         ],
         "yaxis": "y"
        },
        {
         "hovertemplate": "country=JPN<br>Gini coefficient=%{x}<br>GDP per capita=%{y}<br>year=%{text}<extra></extra>",
         "legendgroup": "JPN",
         "line": {
          "color": "#ab63fa",
          "dash": "solid"
         },
         "marker": {
          "symbol": "circle"
         },
         "mode": "lines+markers+text",
         "name": "JPN",
         "orientation": "v",
         "showlegend": true,
         "text": [
          1963,
          null,
          null,
          null,
          null,
          1968,
          null,
          null,
          null,
          null,
          1973,
          null,
          null,
          null,
          null,
          1978,
          1979,
          null,
          null,
          null,
          1983,
          null,
          null,
          1986,
          null,
          1988,
          null,
          null,
          1991,
          null,
          1993,
          null,
          1995,
          null,
          null,
          1998,
          null,
          2000,
          null,
          null,
          2003,
          null,
          null,
          null,
          null,
          2008,
          null,
          null,
          null,
          null,
          2013,
          null,
          null,
          null,
          null,
          2018,
          null,
          2020,
          2021,
          2022,
          null
         ],
         "textposition": "bottom right",
         "type": "scatter",
         "x": [
          null,
          null,
          null,
          null,
          null,
          null,
          null,
          null,
          null,
          null,
          null,
          null,
          null,
          null,
          null,
          null,
          null,
          null,
          null,
          null,
          null,
          null,
          null,
          null,
          null,
          null,
          null,
          null,
          null,
          null,
          null,
          null,
          null,
          null,
          null,
          null,
          null,
          null,
          null,
          null,
          null,
          null,
          null,
          null,
          null,
          34.8,
          34.8,
          32.1,
          32.1,
          32.1,
          32.9,
          32.9,
          32.9,
          32.9,
          32.9,
          32.9,
          32.9,
          32.9,
          32.9,
          32.9,
          32.9
         ],
         "xaxis": "x",
         "y": [
          8219.98739660426,
          9084.79518054167,
          9510.54956577863,
          10426.6399027996,
          11462.9263865587,
          12794.6236237767,
          14221.0523672392,
          14114.3158179076,
          14456.8211953459,
          15455.1369428391,
          16463.2791725065,
          16046.7846823822,
          16333.6748183256,
          16801.9250306258,
          17370.6165468412,
          18120.7284269821,
          18953.3339137399,
          19334.3747442401,
          20011.8292508853,
          20525.2958514713,
          21122.9648423051,
          21912.1518618524,
          22898.9942415023,
          23527.7125188459,
          24503.0845657802,
          26026.8648821107,
          27199.939969537,
          28422.2131195125,
          29308.274088137,
          29462.6539670948,
          29232.4397928178,
          29466.7552451756,
          30171.1637924347,
          31046.1701544648,
          31276.1930771932,
          30795.0888900928,
          30636.266116943,
          31430.6311303282,
          31476.052066579,
          31416.1241772435,
          31830.2175849262,
          32515.1158024317,
          33098.5474664872,
          33531.5185630775,
          33990.0360341685,
          33557.6454041531,
          31651.0837739853,
          32942.2020783725,
          33011.13423011,
          33518.444936892,
          34239.8862473683,
          34386.905855287,
          34960.6393843385,
          35242.1993771881,
          35861.9728545838,
          36138.5290824719,
          36043.7844013365,
          34650.7967802766,
          35701.4542716142,
          36202.639274898,
          36990.3301140205
         ],
         "yaxis": "y"
        },
        {
         "hovertemplate": "country=CHN<br>Gini coefficient=%{x}<br>GDP per capita=%{y}<br>year=%{text}<extra></extra>",
         "legendgroup": "CHN",
         "line": {
          "color": "#FFA15A",
          "dash": "solid"
         },
         "marker": {
          "symbol": "circle"
         },
         "mode": "lines+markers+text",
         "name": "CHN",
         "orientation": "v",
         "showlegend": true,
         "text": [
          1963,
          null,
          null,
          null,
          null,
          1968,
          null,
          null,
          null,
          null,
          1973,
          null,
          null,
          null,
          null,
          1978,
          1979,
          null,
          null,
          null,
          1983,
          null,
          null,
          1986,
          null,
          1988,
          null,
          null,
          1991,
          null,
          1993,
          null,
          1995,
          null,
          null,
          1998,
          null,
          2000,
          null,
          null,
          2003,
          null,
          null,
          null,
          null,
          2008,
          null,
          null,
          null,
          null,
          2013,
          null,
          null,
          null,
          null,
          2018,
          null,
          2020,
          2021,
          2022,
          null
         ],
         "textposition": "bottom right",
         "type": "scatter",
         "x": [
          null,
          null,
          null,
          null,
          null,
          null,
          null,
          null,
          null,
          null,
          null,
          null,
          null,
          null,
          null,
          null,
          null,
          null,
          null,
          null,
          null,
          null,
          null,
          null,
          null,
          null,
          null,
          32.2,
          32.2,
          32.2,
          33.9,
          33.9,
          33.9,
          35.2,
          35.2,
          35.2,
          38.7,
          38.7,
          38.7,
          42,
          42,
          42,
          40.9,
          40.9,
          40.9,
          43,
          43,
          43.7,
          42.4,
          42.2,
          39.7,
          39.2,
          38.6,
          38.5,
          39.1,
          38.5,
          38.2,
          37.1,
          35.7,
          35.7,
          35.7
         ],
         "xaxis": "x",
         "y": [
          176.400455775651,
          203.68783419855,
          232.607206828026,
          250.304902689826,
          229.876274100936,
          214.770065975622,
          244.363964322402,
          283.585356324124,
          295.380170974756,
          299.190888197664,
          315.129663483005,
          315.816664008902,
          337.344119019914,
          326.949460515792,
          346.939156011599,
          381.099329479615,
          404.596632533845,
          430.855409784103,
          447.119786437403,
          480.3113224128,
          524.409363188168,
          596.201109056215,
          667.128541913205,
          716.105339985801,
          786.864881580589,
          861.193486641784,
          883.764155150295,
          905.032457182312,
          975.462915554045,
          1100.64611588261,
          1239.1293732409,
          1384.93015732283,
          1520.02946941719,
          1653.43378890759,
          1787.76697702905,
          1909.62232844399,
          2038.2064740575,
          2193.89686642215,
          2359.57238513523,
          2557.89161202627,
          2797.17665912283,
          3061.83317262874,
          3390.71615945044,
          3800.76579592591,
          4319.03139751247,
          4711.64344921263,
          5128.90412774381,
          5647.06872713954,
          6152.69687271855,
          6591.66249405644,
          7056.42309152349,
          7532.78530130172,
          8016.44559489998,
          8516.52874235572,
          9053.22872461936,
          9619.20947510677,
          10155.5108830542,
          10358.1699971792,
          11223.2553476968,
          11555.9302384568,
          12175.1961147248
         ],
         "yaxis": "y"
        },
        {
         "hovertemplate": "country=FRA<br>Gini coefficient=%{x}<br>GDP per capita=%{y}<br>year=%{text}<extra></extra>",
         "legendgroup": "FRA",
         "line": {
          "color": "#19d3f3",
          "dash": "solid"
         },
         "marker": {
          "symbol": "circle"
         },
         "mode": "lines+markers+text",
         "name": "FRA",
         "orientation": "v",
         "showlegend": true,
         "text": [
          1963,
          null,
          null,
          null,
          null,
          1968,
          null,
          null,
          null,
          null,
          1973,
          null,
          null,
          null,
          null,
          1978,
          1979,
          null,
          null,
          null,
          1983,
          null,
          null,
          1986,
          null,
          1988,
          null,
          null,
          1991,
          null,
          1993,
          null,
          1995,
          null,
          null,
          1998,
          null,
          2000,
          null,
          null,
          2003,
          null,
          null,
          null,
          null,
          2008,
          null,
          null,
          null,
          null,
          2013,
          null,
          null,
          null,
          null,
          2018,
          null,
          2020,
          2021,
          2022,
          null
         ],
         "textposition": "bottom right",
         "type": "scatter",
         "x": [
          null,
          null,
          null,
          null,
          null,
          null,
          null,
          37.1,
          37.1,
          37.1,
          37.1,
          37.1,
          35.9,
          35.9,
          35.9,
          35.9,
          34,
          34,
          34,
          34,
          34,
          33.4,
          33.4,
          33.4,
          33.4,
          33.4,
          33.4,
          32.1,
          32.1,
          32.1,
          32.1,
          32.1,
          32.1,
          32,
          31.9,
          31.7,
          32.5,
          32.6,
          32.5,
          31.8,
          31.4,
          30.6,
          29.8,
          29.7,
          32.4,
          33,
          32.7,
          33.7,
          33.3,
          33.1,
          32.5,
          32.3,
          32.7,
          31.9,
          31.6,
          32.4,
          31.2,
          30.7,
          31.5,
          31.5,
          31.5
         ],
         "xaxis": "x",
         "y": [
          12384.5365890788,
          13040.566706937,
          13537.0486210143,
          14119.5206477271,
          14690.807481932,
          15227.4770197367,
          16176.7441006573,
          17024.1166968725,
          17763.4267120288,
          18407.1540190396,
          19465.8926385994,
          20244.6170583655,
          19922.0019496386,
          20707.7547195513,
          21347.55584568,
          22078.7228203247,
          22792.2359546683,
          23050.9255988627,
          23186.7612580687,
          23666.5121748806,
          23836.4019022125,
          24102.0176236369,
          24358.1382808953,
          24813.0302673133,
          25308.6209153002,
          26374.1221756858,
          27372.0534832736,
          27992.9751563018,
          28197.235956819,
          28482.5194710025,
          28257.0962436413,
          28822.5006563247,
          29379.6158447459,
          29683.7786060864,
          30325.5228742678,
          31256.5073871178,
          32152.7207413244,
          33255.1379678188,
          33640.6738010628,
          33753.5782919683,
          33840.6175643619,
          34557.1471190953,
          34946.0372441472,
          35645.416247825,
          36322.1685116781,
          36257.3658869458,
          35052.8510836822,
          35578.1967958814,
          36269.9561589984,
          36161.2918334209,
          36256.0866889623,
          36444.3949135827,
          36702.4323733379,
          36920.5342871045,
          37580.5979319486,
          38062.4435971517,
          38705.2072997191,
          35709.204585868,
          38030.8571728494,
          38881.2230653186,
          39117.4845009362
         ],
         "yaxis": "y"
        },
        {
         "hovertemplate": "country=DEU<br>Gini coefficient=%{x}<br>GDP per capita=%{y}<br>year=%{text}<extra></extra>",
         "legendgroup": "DEU",
         "line": {
          "color": "#FF6692",
          "dash": "solid"
         },
         "marker": {
          "symbol": "circle"
         },
         "mode": "lines+markers+text",
         "name": "DEU",
         "orientation": "v",
         "showlegend": true,
         "text": [
          1963,
          null,
          null,
          null,
          null,
          1968,
          null,
          null,
          null,
          null,
          1973,
          null,
          null,
          null,
          null,
          1978,
          1979,
          null,
          null,
          null,
          1983,
          null,
          null,
          1986,
          null,
          1988,
          null,
          null,
          1991,
          null,
          1993,
          null,
          1995,
          null,
          null,
          1998,
          null,
          2000,
          null,
          null,
          2003,
          null,
          null,
          null,
          null,
          2008,
          null,
          null,
          null,
          null,
          2013,
          null,
          null,
          null,
          null,
          2018,
          null,
          2020,
          2021,
          2022,
          null
         ],
         "textposition": "bottom right",
         "type": "scatter",
         "x": [
          null,
          null,
          null,
          null,
          null,
          null,
          null,
          null,
          null,
          null,
          null,
          null,
          null,
          null,
          null,
          null,
          null,
          null,
          null,
          null,
          null,
          null,
          null,
          null,
          null,
          null,
          null,
          null,
          29.5,
          29.1,
          28.6,
          29.2,
          28.8,
          28,
          28.2,
          28.3,
          29,
          28.9,
          29.9,
          29.8,
          29.8,
          30.2,
          31.7,
          31,
          31.2,
          30.8,
          30.5,
          30.2,
          30.6,
          31.1,
          31.5,
          30.8,
          31.7,
          31.4,
          31.3,
          31.9,
          31.8,
          32.4,
          32.4,
          32.4,
          32.4
         ],
         "xaxis": "x",
         "y": [
          13766.5355362913,
          14562.8358867104,
          15196.3266135987,
          15493.828376695,
          15372.2150106017,
          16171.5531425011,
          17233.9697030039,
          18053.2877662512,
          18584.7134080664,
          19291.3926710734,
          20149.4771410192,
          20320.9008986241,
          20220.0209834851,
          21311.945010658,
          22075.2189098003,
          22759.1492987824,
          23693.2601878736,
          23977.2698645215,
          24067.4825503981,
          23995.2661890258,
          24436.5473234992,
          25213.3820426351,
          25858.0588733612,
          26437.4177394677,
          26766.9600581443,
          27651.0362681017,
          28507.1621299938,
          29747.6909405244,
          31040.2935628737,
          31425.647608288,
          30915.8728851988,
          31609.1102861092,
          31990.7949869618,
          32229.4778702849,
          32779.2802468879,
          33461.3192202157,
          34152.0032256224,
          35087.0891559515,
          35601.3628351653,
          35460.4121336422,
          35252.9745134977,
          35670.4870276152,
          36006.8578105923,
          37437.3918783337,
          38570.9146408152,
          38996.143407627,
          36927.1920287013,
          38517.4397860109,
          40712.6577363042,
          40829.034893805,
          40875.0262803178,
          41588.0763875592,
          41911.0109851054,
          42528.0637107828,
          43520.1864212996,
          43874.0130936092,
          44207.6320519514,
          42362.6472136853,
          43898.7713167519,
          44180.4298386996,
          44336.7775157399
         ],
         "yaxis": "y"
        }
       ],
       "layout": {
        "autosize": true,
        "legend": {
         "title": {
          "text": "country"
         },
         "tracegroupgap": 0
        },
        "margin": {
         "t": 60
        },
        "template": {
         "data": {
          "bar": [
           {
            "error_x": {
             "color": "#2a3f5f"
            },
            "error_y": {
             "color": "#2a3f5f"
            },
            "marker": {
             "line": {
              "color": "#E5ECF6",
              "width": 0.5
             },
             "pattern": {
              "fillmode": "overlay",
              "size": 10,
              "solidity": 0.2
             }
            },
            "type": "bar"
           }
          ],
          "barpolar": [
           {
            "marker": {
             "line": {
              "color": "#E5ECF6",
              "width": 0.5
             },
             "pattern": {
              "fillmode": "overlay",
              "size": 10,
              "solidity": 0.2
             }
            },
            "type": "barpolar"
           }
          ],
          "carpet": [
           {
            "aaxis": {
             "endlinecolor": "#2a3f5f",
             "gridcolor": "white",
             "linecolor": "white",
             "minorgridcolor": "white",
             "startlinecolor": "#2a3f5f"
            },
            "baxis": {
             "endlinecolor": "#2a3f5f",
             "gridcolor": "white",
             "linecolor": "white",
             "minorgridcolor": "white",
             "startlinecolor": "#2a3f5f"
            },
            "type": "carpet"
           }
          ],
          "choropleth": [
           {
            "colorbar": {
             "outlinewidth": 0,
             "ticks": ""
            },
            "type": "choropleth"
           }
          ],
          "contour": [
           {
            "colorbar": {
             "outlinewidth": 0,
             "ticks": ""
            },
            "colorscale": [
             [
              0,
              "#0d0887"
             ],
             [
              0.1111111111111111,
              "#46039f"
             ],
             [
              0.2222222222222222,
              "#7201a8"
             ],
             [
              0.3333333333333333,
              "#9c179e"
             ],
             [
              0.4444444444444444,
              "#bd3786"
             ],
             [
              0.5555555555555556,
              "#d8576b"
             ],
             [
              0.6666666666666666,
              "#ed7953"
             ],
             [
              0.7777777777777778,
              "#fb9f3a"
             ],
             [
              0.8888888888888888,
              "#fdca26"
             ],
             [
              1,
              "#f0f921"
             ]
            ],
            "type": "contour"
           }
          ],
          "contourcarpet": [
           {
            "colorbar": {
             "outlinewidth": 0,
             "ticks": ""
            },
            "type": "contourcarpet"
           }
          ],
          "heatmap": [
           {
            "colorbar": {
             "outlinewidth": 0,
             "ticks": ""
            },
            "colorscale": [
             [
              0,
              "#0d0887"
             ],
             [
              0.1111111111111111,
              "#46039f"
             ],
             [
              0.2222222222222222,
              "#7201a8"
             ],
             [
              0.3333333333333333,
              "#9c179e"
             ],
             [
              0.4444444444444444,
              "#bd3786"
             ],
             [
              0.5555555555555556,
              "#d8576b"
             ],
             [
              0.6666666666666666,
              "#ed7953"
             ],
             [
              0.7777777777777778,
              "#fb9f3a"
             ],
             [
              0.8888888888888888,
              "#fdca26"
             ],
             [
              1,
              "#f0f921"
             ]
            ],
            "type": "heatmap"
           }
          ],
          "heatmapgl": [
           {
            "colorbar": {
             "outlinewidth": 0,
             "ticks": ""
            },
            "colorscale": [
             [
              0,
              "#0d0887"
             ],
             [
              0.1111111111111111,
              "#46039f"
             ],
             [
              0.2222222222222222,
              "#7201a8"
             ],
             [
              0.3333333333333333,
              "#9c179e"
             ],
             [
              0.4444444444444444,
              "#bd3786"
             ],
             [
              0.5555555555555556,
              "#d8576b"
             ],
             [
              0.6666666666666666,
              "#ed7953"
             ],
             [
              0.7777777777777778,
              "#fb9f3a"
             ],
             [
              0.8888888888888888,
              "#fdca26"
             ],
             [
              1,
              "#f0f921"
             ]
            ],
            "type": "heatmapgl"
           }
          ],
          "histogram": [
           {
            "marker": {
             "pattern": {
              "fillmode": "overlay",
              "size": 10,
              "solidity": 0.2
             }
            },
            "type": "histogram"
           }
          ],
          "histogram2d": [
           {
            "colorbar": {
             "outlinewidth": 0,
             "ticks": ""
            },
            "colorscale": [
             [
              0,
              "#0d0887"
             ],
             [
              0.1111111111111111,
              "#46039f"
             ],
             [
              0.2222222222222222,
              "#7201a8"
             ],
             [
              0.3333333333333333,
              "#9c179e"
             ],
             [
              0.4444444444444444,
              "#bd3786"
             ],
             [
              0.5555555555555556,
              "#d8576b"
             ],
             [
              0.6666666666666666,
              "#ed7953"
             ],
             [
              0.7777777777777778,
              "#fb9f3a"
             ],
             [
              0.8888888888888888,
              "#fdca26"
             ],
             [
              1,
              "#f0f921"
             ]
            ],
            "type": "histogram2d"
           }
          ],
          "histogram2dcontour": [
           {
            "colorbar": {
             "outlinewidth": 0,
             "ticks": ""
            },
            "colorscale": [
             [
              0,
              "#0d0887"
             ],
             [
              0.1111111111111111,
              "#46039f"
             ],
             [
              0.2222222222222222,
              "#7201a8"
             ],
             [
              0.3333333333333333,
              "#9c179e"
             ],
             [
              0.4444444444444444,
              "#bd3786"
             ],
             [
              0.5555555555555556,
              "#d8576b"
             ],
             [
              0.6666666666666666,
              "#ed7953"
             ],
             [
              0.7777777777777778,
              "#fb9f3a"
             ],
             [
              0.8888888888888888,
              "#fdca26"
             ],
             [
              1,
              "#f0f921"
             ]
            ],
            "type": "histogram2dcontour"
           }
          ],
          "mesh3d": [
           {
            "colorbar": {
             "outlinewidth": 0,
             "ticks": ""
            },
            "type": "mesh3d"
           }
          ],
          "parcoords": [
           {
            "line": {
             "colorbar": {
              "outlinewidth": 0,
              "ticks": ""
             }
            },
            "type": "parcoords"
           }
          ],
          "pie": [
           {
            "automargin": true,
            "type": "pie"
           }
          ],
          "scatter": [
           {
            "fillpattern": {
             "fillmode": "overlay",
             "size": 10,
             "solidity": 0.2
            },
            "type": "scatter"
           }
          ],
          "scatter3d": [
           {
            "line": {
             "colorbar": {
              "outlinewidth": 0,
              "ticks": ""
             }
            },
            "marker": {
             "colorbar": {
              "outlinewidth": 0,
              "ticks": ""
             }
            },
            "type": "scatter3d"
           }
          ],
          "scattercarpet": [
           {
            "marker": {
             "colorbar": {
              "outlinewidth": 0,
              "ticks": ""
             }
            },
            "type": "scattercarpet"
           }
          ],
          "scattergeo": [
           {
            "marker": {
             "colorbar": {
              "outlinewidth": 0,
              "ticks": ""
             }
            },
            "type": "scattergeo"
           }
          ],
          "scattergl": [
           {
            "marker": {
             "colorbar": {
              "outlinewidth": 0,
              "ticks": ""
             }
            },
            "type": "scattergl"
           }
          ],
          "scattermapbox": [
           {
            "marker": {
             "colorbar": {
              "outlinewidth": 0,
              "ticks": ""
             }
            },
            "type": "scattermapbox"
           }
          ],
          "scatterpolar": [
           {
            "marker": {
             "colorbar": {
              "outlinewidth": 0,
              "ticks": ""
             }
            },
            "type": "scatterpolar"
           }
          ],
          "scatterpolargl": [
           {
            "marker": {
             "colorbar": {
              "outlinewidth": 0,
              "ticks": ""
             }
            },
            "type": "scatterpolargl"
           }
          ],
          "scatterternary": [
           {
            "marker": {
             "colorbar": {
              "outlinewidth": 0,
              "ticks": ""
             }
            },
            "type": "scatterternary"
           }
          ],
          "surface": [
           {
            "colorbar": {
             "outlinewidth": 0,
             "ticks": ""
            },
            "colorscale": [
             [
              0,
              "#0d0887"
             ],
             [
              0.1111111111111111,
              "#46039f"
             ],
             [
              0.2222222222222222,
              "#7201a8"
             ],
             [
              0.3333333333333333,
              "#9c179e"
             ],
             [
              0.4444444444444444,
              "#bd3786"
             ],
             [
              0.5555555555555556,
              "#d8576b"
             ],
             [
              0.6666666666666666,
              "#ed7953"
             ],
             [
              0.7777777777777778,
              "#fb9f3a"
             ],
             [
              0.8888888888888888,
              "#fdca26"
             ],
             [
              1,
              "#f0f921"
             ]
            ],
            "type": "surface"
           }
          ],
          "table": [
           {
            "cells": {
             "fill": {
              "color": "#EBF0F8"
             },
             "line": {
              "color": "white"
             }
            },
            "header": {
             "fill": {
              "color": "#C8D4E3"
             },
             "line": {
              "color": "white"
             }
            },
            "type": "table"
           }
          ]
         },
         "layout": {
          "annotationdefaults": {
           "arrowcolor": "#2a3f5f",
           "arrowhead": 0,
           "arrowwidth": 1
          },
          "autotypenumbers": "strict",
          "coloraxis": {
           "colorbar": {
            "outlinewidth": 0,
            "ticks": ""
           }
          },
          "colorscale": {
           "diverging": [
            [
             0,
             "#8e0152"
            ],
            [
             0.1,
             "#c51b7d"
            ],
            [
             0.2,
             "#de77ae"
            ],
            [
             0.3,
             "#f1b6da"
            ],
            [
             0.4,
             "#fde0ef"
            ],
            [
             0.5,
             "#f7f7f7"
            ],
            [
             0.6,
             "#e6f5d0"
            ],
            [
             0.7,
             "#b8e186"
            ],
            [
             0.8,
             "#7fbc41"
            ],
            [
             0.9,
             "#4d9221"
            ],
            [
             1,
             "#276419"
            ]
           ],
           "sequential": [
            [
             0,
             "#0d0887"
            ],
            [
             0.1111111111111111,
             "#46039f"
            ],
            [
             0.2222222222222222,
             "#7201a8"
            ],
            [
             0.3333333333333333,
             "#9c179e"
            ],
            [
             0.4444444444444444,
             "#bd3786"
            ],
            [
             0.5555555555555556,
             "#d8576b"
            ],
            [
             0.6666666666666666,
             "#ed7953"
            ],
            [
             0.7777777777777778,
             "#fb9f3a"
            ],
            [
             0.8888888888888888,
             "#fdca26"
            ],
            [
             1,
             "#f0f921"
            ]
           ],
           "sequentialminus": [
            [
             0,
             "#0d0887"
            ],
            [
             0.1111111111111111,
             "#46039f"
            ],
            [
             0.2222222222222222,
             "#7201a8"
            ],
            [
             0.3333333333333333,
             "#9c179e"
            ],
            [
             0.4444444444444444,
             "#bd3786"
            ],
            [
             0.5555555555555556,
             "#d8576b"
            ],
            [
             0.6666666666666666,
             "#ed7953"
            ],
            [
             0.7777777777777778,
             "#fb9f3a"
            ],
            [
             0.8888888888888888,
             "#fdca26"
            ],
            [
             1,
             "#f0f921"
            ]
           ]
          },
          "colorway": [
           "#636efa",
           "#EF553B",
           "#00cc96",
           "#ab63fa",
           "#FFA15A",
           "#19d3f3",
           "#FF6692",
           "#B6E880",
           "#FF97FF",
           "#FECB52"
          ],
          "font": {
           "color": "#2a3f5f"
          },
          "geo": {
           "bgcolor": "white",
           "lakecolor": "white",
           "landcolor": "#E5ECF6",
           "showlakes": true,
           "showland": true,
           "subunitcolor": "white"
          },
          "hoverlabel": {
           "align": "left"
          },
          "hovermode": "closest",
          "mapbox": {
           "style": "light"
          },
          "paper_bgcolor": "white",
          "plot_bgcolor": "#E5ECF6",
          "polar": {
           "angularaxis": {
            "gridcolor": "white",
            "linecolor": "white",
            "ticks": ""
           },
           "bgcolor": "#E5ECF6",
           "radialaxis": {
            "gridcolor": "white",
            "linecolor": "white",
            "ticks": ""
           }
          },
          "scene": {
           "xaxis": {
            "backgroundcolor": "#E5ECF6",
            "gridcolor": "white",
            "gridwidth": 2,
            "linecolor": "white",
            "showbackground": true,
            "ticks": "",
            "zerolinecolor": "white"
           },
           "yaxis": {
            "backgroundcolor": "#E5ECF6",
            "gridcolor": "white",
            "gridwidth": 2,
            "linecolor": "white",
            "showbackground": true,
            "ticks": "",
            "zerolinecolor": "white"
           },
           "zaxis": {
            "backgroundcolor": "#E5ECF6",
            "gridcolor": "white",
            "gridwidth": 2,
            "linecolor": "white",
            "showbackground": true,
            "ticks": "",
            "zerolinecolor": "white"
           }
          },
          "shapedefaults": {
           "line": {
            "color": "#2a3f5f"
           }
          },
          "ternary": {
           "aaxis": {
            "gridcolor": "white",
            "linecolor": "white",
            "ticks": ""
           },
           "baxis": {
            "gridcolor": "white",
            "linecolor": "white",
            "ticks": ""
           },
           "bgcolor": "#E5ECF6",
           "caxis": {
            "gridcolor": "white",
            "linecolor": "white",
            "ticks": ""
           }
          },
          "title": {
           "x": 0.05
          },
          "xaxis": {
           "automargin": true,
           "gridcolor": "white",
           "linecolor": "white",
           "ticks": "",
           "title": {
            "standoff": 15
           },
           "zerolinecolor": "white",
           "zerolinewidth": 2
          },
          "yaxis": {
           "automargin": true,
           "gridcolor": "white",
           "linecolor": "white",
           "ticks": "",
           "title": {
            "standoff": 15
           },
           "zerolinecolor": "white",
           "zerolinewidth": 2
          }
         }
        },
        "xaxis": {
         "anchor": "y",
         "autorange": true,
         "domain": [
          0,
          1
         ],
         "range": [
          21.63881779402803,
          44.96118220597197
         ],
         "title": {
          "text": "Gini coefficient"
         },
         "type": "linear"
        },
        "yaxis": {
         "anchor": "x",
         "autorange": true,
         "domain": [
          0,
          1
         ],
         "range": [
          -3940.2748560622763,
          69991.85319327193
         ],
         "title": {
          "text": "GDP per capita"
         },
         "type": "linear"
        }
       }
      },
      "image/png": "[encoded data removed]",
      "text/html": [
       "<div>                            <div id=\"077b0561-dc6c-4f26-a353-9d651b8c3e2c\" class=\"plotly-graph-div\" style=\"height:800px; width:100%;\"></div>            <script type=\"text/javascript\">                require([\"plotly\"], function(Plotly) {                    window.PLOTLYENV=window.PLOTLYENV || {};                                    if (document.getElementById(\"077b0561-dc6c-4f26-a353-9d651b8c3e2c\")) {                    Plotly.newPlot(                        \"077b0561-dc6c-4f26-a353-9d651b8c3e2c\",                        [{\"hovertemplate\":\"country=USA\\u003cbr\\u003eGini coefficient=%{x}\\u003cbr\\u003eGDP per capita=%{y}\\u003cbr\\u003eyear=%{text}\\u003cextra\\u003e\\u003c\\u002fextra\\u003e\",\"legendgroup\":\"USA\",\"line\":{\"color\":\"#636efa\",\"dash\":\"solid\"},\"marker\":{\"symbol\":\"circle\"},\"mode\":\"lines+markers+text\",\"name\":\"USA\",\"orientation\":\"v\",\"showlegend\":true,\"text\":[1963.0,null,null,null,null,1968.0,null,null,null,null,1973.0,null,null,null,null,1978.0,1979.0,null,null,null,1983.0,null,null,1986.0,null,1988.0,null,null,1991.0,null,1993.0,null,1995.0,null,null,1998.0,null,2000.0,null,null,2003.0,null,null,null,null,2008.0,null,null,null,null,2013.0,null,null,null,null,2018.0,null,2020.0,2021.0,2022.0,null],\"x\":[37.6,38.1,37.5,37.8,36.9,36.3,36.0,36.6,36.9,36.7,36.1,35.5,35.6,35.6,35.5,34.8,34.8,34.7,35.5,36.7,37.3,37.3,37.6,37.6,37.2,37.7,38.2,38.3,38.0,38.4,40.4,40.0,39.9,40.3,40.5,40.0,40.0,40.1,40.6,40.4,40.8,40.3,41.0,41.4,40.8,40.8,40.6,40.0,40.9,40.9,40.6,41.5,41.2,41.1,41.2,41.4,41.5,39.7,39.7,41.3,null],\"xaxis\":\"x\",\"y\":[20545.7842453942,21437.5840704395,22526.2055148551,23714.9390278431,24044.565127902,24948.3568987924,25471.6161786519,25231.1271579892,25734.4828350051,26798.5336071197,28042.5519161527,27637.2997746126,27309.8688169354,28509.1430550141,29528.9663683544,30834.9992317542,31462.1003887938,31081.6216349433,31559.1293394228,30696.0834354928,31810.921609807,33818.8235513622,34918.1302012407,35794.8877746915,36701.9453875331,37889.3773471466,38911.5418950729,39200.0658112434,38637.8398140572,39447.9472855283,40002.4762252856,41106.9881843679,41710.8207249566,42783.8165697825,44151.6860414367,45596.4306843475,47234.2455275229,48616.25462578,48597.4246142005,48967.3661201159,49905.5233074236,51348.3473376223,52649.5713054684,53596.3152372,54152.8292651299,53703.9628961266,51863.6183411923,52821.4047643404,53259.2552138539,54080.2286497215,54844.2425797154,55817.5632471958,57040.2082136605,57658.6708825722,58703.1440780161,60127.2102762459,61400.5481543687,59493.1459820135,62996.2893837444,64342.1179383761,65875.177881434],\"yaxis\":\"y\",\"type\":\"scatter\",\"textposition\":\"bottom right\"},{\"hovertemplate\":\"country=GBR\\u003cbr\\u003eGini coefficient=%{x}\\u003cbr\\u003eGDP per capita=%{y}\\u003cbr\\u003eyear=%{text}\\u003cextra\\u003e\\u003c\\u002fextra\\u003e\",\"legendgroup\":\"GBR\",\"line\":{\"color\":\"#EF553B\",\"dash\":\"solid\"},\"marker\":{\"symbol\":\"circle\"},\"mode\":\"lines+markers+text\",\"name\":\"GBR\",\"orientation\":\"v\",\"showlegend\":true,\"text\":[1963.0,null,null,null,null,1968.0,null,null,null,null,1973.0,null,null,null,null,1978.0,1979.0,null,null,null,1983.0,null,null,1986.0,null,1988.0,null,null,1991.0,null,1993.0,null,1995.0,null,null,1998.0,null,2000.0,null,null,2003.0,null,null,null,null,2008.0,null,null,null,null,2013.0,null,null,null,null,2018.0,null,2020.0,2021.0,2022.0,null],\"x\":[null,null,null,null,null,26.8,27.9,28.0,29.3,28.8,28.8,29.0,27.9,27.6,27.1,27.2,27.4,28.5,29.7,29.9,29.8,29.2,30.4,31.9,33.9,34.3,33.4,35.7,35.0,35.0,35.1,36.0,35.5,35.3,35.7,36.6,36.8,38.8,37.1,35.1,34.9,34.8,35.5,35.9,34.4,35.4,35.1,33.7,33.2,33.1,32.7,33.1,33.3,33.1,32.6,33.7,32.8,32.6,32.4,null,null],\"xaxis\":\"x\",\"y\":[16095.4421361819,16885.7927685308,17135.0744777669,17307.9752221483,17692.8583969032,18570.518441756,18852.0756535557,19285.6497580384,19878.3583978709,20667.2421984769,21973.049199207,21413.6423410849,21099.6465634208,21719.0454973407,22260.1620137046,23194.7939530158,24042.7876858071,23526.2554939436,23332.802577182,23806.798102773,24803.4271654098,25326.1296682539,26316.7154240545,27082.9819399054,28482.8666688606,30048.8206598875,30743.2275109139,30876.3706304517,30441.4813488187,30481.0348859844,31165.1544568281,32281.4801527014,33011.2945610583,33777.5280893285,35349.7906529645,36446.26168577,37435.8844440997,38921.8965742615,39769.8719588505,40312.982402183,41390.6062114686,42167.3557140489,43023.2276941486,43724.8957170161,44524.5707052861,44065.6156615172,41712.8319038271,42311.4329860219,42459.9629998419,42802.0207834042,43281.5764200721,44336.537861323,44964.3911437292,45482.4668618551,46374.5811167058,46742.1481190493,47234.2466070513,42215.8837450989,45873.869597011,47551.2296562184,47322.6682239254],\"yaxis\":\"y\",\"type\":\"scatter\",\"textposition\":\"bottom right\"},{\"hovertemplate\":\"country=SWE\\u003cbr\\u003eGini coefficient=%{x}\\u003cbr\\u003eGDP per capita=%{y}\\u003cbr\\u003eyear=%{text}\\u003cextra\\u003e\\u003c\\u002fextra\\u003e\",\"legendgroup\":\"SWE\",\"line\":{\"color\":\"#00cc96\",\"dash\":\"solid\"},\"marker\":{\"symbol\":\"circle\"},\"mode\":\"lines+markers+text\",\"name\":\"SWE\",\"orientation\":\"v\",\"showlegend\":true,\"text\":[1963.0,null,null,null,null,1968.0,null,null,null,null,1973.0,null,null,null,null,1978.0,1979.0,null,null,null,1983.0,null,null,1986.0,null,1988.0,null,null,1991.0,null,1993.0,null,1995.0,null,null,1998.0,null,2000.0,null,null,2003.0,null,null,null,null,2008.0,null,null,null,null,2013.0,null,null,null,null,2018.0,null,2020.0,2021.0,2022.0,null],\"x\":[null,null,null,null,null,null,null,null,null,null,null,null,24.3,24.3,24.3,24.3,24.3,24.3,22.9,22.9,22.9,22.9,22.9,22.9,23.1,23.1,23.1,23.1,23.1,24.9,24.9,24.9,25.2,25.2,25.2,25.2,25.2,27.0,26.5,26.2,25.3,26.1,26.8,26.4,27.1,28.1,27.3,27.7,27.6,27.6,28.8,28.4,29.2,29.6,28.8,30.0,29.3,28.9,29.8,29.8,29.8],\"xaxis\":\"x\",\"y\":[19203.9132600174,20361.1524238685,20941.0909432355,21176.4666220693,21721.8399978607,22386.0274483069,23342.7425016141,24622.947878957,24685.1047786533,25175.5783894299,26129.4639468973,26887.0053913592,27464.0686210301,27653.9107272497,27116.0070001824,27510.7438516574,28504.8851836266,28930.6721003824,29027.4269109053,29373.0783683788,29917.8065169672,31154.8675252983,31775.4021053726,32554.7804658913,33534.5321337656,34234.9882140715,34910.1676505081,34902.9205848639,34268.5547150561,33673.4365945351,32786.8795033975,33861.971357929,35063.9008956006,35604.9683604031,36675.2077147134,38211.1186220399,39785.3801572029,41561.0967168749,42013.7004264801,42831.0188619575,43474.579217835,45113.8308513761,46188.8411079246,48077.4408695625,49261.2399453051,48427.7563778,45973.5537675417,48204.6580784176,49355.6899419737,48788.8671231037,48927.5973053354,49556.7005007699,51197.9529341175,51746.6969632478,51985.932464245,52363.3829181296,53156.8613091273,51715.78104096,54458.3535600817,54878.2919511876,54449.7982042953],\"yaxis\":\"y\",\"type\":\"scatter\",\"textposition\":\"bottom right\"},{\"hovertemplate\":\"country=JPN\\u003cbr\\u003eGini coefficient=%{x}\\u003cbr\\u003eGDP per capita=%{y}\\u003cbr\\u003eyear=%{text}\\u003cextra\\u003e\\u003c\\u002fextra\\u003e\",\"legendgroup\":\"JPN\",\"line\":{\"color\":\"#ab63fa\",\"dash\":\"solid\"},\"marker\":{\"symbol\":\"circle\"},\"mode\":\"lines+markers+text\",\"name\":\"JPN\",\"orientation\":\"v\",\"showlegend\":true,\"text\":[1963.0,null,null,null,null,1968.0,null,null,null,null,1973.0,null,null,null,null,1978.0,1979.0,null,null,null,1983.0,null,null,1986.0,null,1988.0,null,null,1991.0,null,1993.0,null,1995.0,null,null,1998.0,null,2000.0,null,null,2003.0,null,null,null,null,2008.0,null,null,null,null,2013.0,null,null,null,null,2018.0,null,2020.0,2021.0,2022.0,null],\"x\":[null,null,null,null,null,null,null,null,null,null,null,null,null,null,null,null,null,null,null,null,null,null,null,null,null,null,null,null,null,null,null,null,null,null,null,null,null,null,null,null,null,null,null,null,null,34.8,34.8,32.1,32.1,32.1,32.9,32.9,32.9,32.9,32.9,32.9,32.9,32.9,32.9,32.9,32.9],\"xaxis\":\"x\",\"y\":[8219.98739660426,9084.79518054167,9510.54956577863,10426.6399027996,11462.9263865587,12794.6236237767,14221.0523672392,14114.3158179076,14456.8211953459,15455.1369428391,16463.2791725065,16046.7846823822,16333.6748183256,16801.9250306258,17370.6165468412,18120.7284269821,18953.3339137399,19334.3747442401,20011.8292508853,20525.2958514713,21122.9648423051,21912.1518618524,22898.9942415023,23527.7125188459,24503.0845657802,26026.8648821107,27199.939969537,28422.2131195125,29308.274088137,29462.6539670948,29232.4397928178,29466.7552451756,30171.1637924347,31046.1701544648,31276.1930771932,30795.0888900928,30636.266116943,31430.6311303282,31476.052066579,31416.1241772435,31830.2175849262,32515.1158024317,33098.5474664872,33531.5185630775,33990.0360341685,33557.6454041531,31651.0837739853,32942.2020783725,33011.13423011,33518.444936892,34239.8862473683,34386.905855287,34960.6393843385,35242.1993771881,35861.9728545838,36138.5290824719,36043.7844013365,34650.7967802766,35701.4542716142,36202.639274898,36990.3301140205],\"yaxis\":\"y\",\"type\":\"scatter\",\"textposition\":\"bottom right\"},{\"hovertemplate\":\"country=CHN\\u003cbr\\u003eGini coefficient=%{x}\\u003cbr\\u003eGDP per capita=%{y}\\u003cbr\\u003eyear=%{text}\\u003cextra\\u003e\\u003c\\u002fextra\\u003e\",\"legendgroup\":\"CHN\",\"line\":{\"color\":\"#FFA15A\",\"dash\":\"solid\"},\"marker\":{\"symbol\":\"circle\"},\"mode\":\"lines+markers+text\",\"name\":\"CHN\",\"orientation\":\"v\",\"showlegend\":true,\"text\":[1963.0,null,null,null,null,1968.0,null,null,null,null,1973.0,null,null,null,null,1978.0,1979.0,null,null,null,1983.0,null,null,1986.0,null,1988.0,null,null,1991.0,null,1993.0,null,1995.0,null,null,1998.0,null,2000.0,null,null,2003.0,null,null,null,null,2008.0,null,null,null,null,2013.0,null,null,null,null,2018.0,null,2020.0,2021.0,2022.0,null],\"x\":[null,null,null,null,null,null,null,null,null,null,null,null,null,null,null,null,null,null,null,null,null,null,null,null,null,null,null,32.2,32.2,32.2,33.9,33.9,33.9,35.2,35.2,35.2,38.7,38.7,38.7,42.0,42.0,42.0,40.9,40.9,40.9,43.0,43.0,43.7,42.4,42.2,39.7,39.2,38.6,38.5,39.1,38.5,38.2,37.1,35.7,35.7,35.7],\"xaxis\":\"x\",\"y\":[176.400455775651,203.68783419855,232.607206828026,250.304902689826,229.876274100936,214.770065975622,244.363964322402,283.585356324124,295.380170974756,299.190888197664,315.129663483005,315.816664008902,337.344119019914,326.949460515792,346.939156011599,381.099329479615,404.596632533845,430.855409784103,447.119786437403,480.3113224128,524.409363188168,596.201109056215,667.128541913205,716.105339985801,786.864881580589,861.193486641784,883.764155150295,905.032457182312,975.462915554045,1100.64611588261,1239.1293732409,1384.93015732283,1520.02946941719,1653.43378890759,1787.76697702905,1909.62232844399,2038.2064740575,2193.89686642215,2359.57238513523,2557.89161202627,2797.17665912283,3061.83317262874,3390.71615945044,3800.76579592591,4319.03139751247,4711.64344921263,5128.90412774381,5647.06872713954,6152.69687271855,6591.66249405644,7056.42309152349,7532.78530130172,8016.44559489998,8516.52874235572,9053.22872461936,9619.20947510677,10155.5108830542,10358.1699971792,11223.2553476968,11555.9302384568,12175.1961147248],\"yaxis\":\"y\",\"type\":\"scatter\",\"textposition\":\"bottom right\"},{\"hovertemplate\":\"country=FRA\\u003cbr\\u003eGini coefficient=%{x}\\u003cbr\\u003eGDP per capita=%{y}\\u003cbr\\u003eyear=%{text}\\u003cextra\\u003e\\u003c\\u002fextra\\u003e\",\"legendgroup\":\"FRA\",\"line\":{\"color\":\"#19d3f3\",\"dash\":\"solid\"},\"marker\":{\"symbol\":\"circle\"},\"mode\":\"lines+markers+text\",\"name\":\"FRA\",\"orientation\":\"v\",\"showlegend\":true,\"text\":[1963.0,null,null,null,null,1968.0,null,null,null,null,1973.0,null,null,null,null,1978.0,1979.0,null,null,null,1983.0,null,null,1986.0,null,1988.0,null,null,1991.0,null,1993.0,null,1995.0,null,null,1998.0,null,2000.0,null,null,2003.0,null,null,null,null,2008.0,null,null,null,null,2013.0,null,null,null,null,2018.0,null,2020.0,2021.0,2022.0,null],\"x\":[null,null,null,null,null,null,null,37.1,37.1,37.1,37.1,37.1,35.9,35.9,35.9,35.9,34.0,34.0,34.0,34.0,34.0,33.4,33.4,33.4,33.4,33.4,33.4,32.1,32.1,32.1,32.1,32.1,32.1,32.0,31.9,31.7,32.5,32.6,32.5,31.8,31.4,30.6,29.8,29.7,32.4,33.0,32.7,33.7,33.3,33.1,32.5,32.3,32.7,31.9,31.6,32.4,31.2,30.7,31.5,31.5,31.5],\"xaxis\":\"x\",\"y\":[12384.5365890788,13040.566706937,13537.0486210143,14119.5206477271,14690.807481932,15227.4770197367,16176.7441006573,17024.1166968725,17763.4267120288,18407.1540190396,19465.8926385994,20244.6170583655,19922.0019496386,20707.7547195513,21347.55584568,22078.7228203247,22792.2359546683,23050.9255988627,23186.7612580687,23666.5121748806,23836.4019022125,24102.0176236369,24358.1382808953,24813.0302673133,25308.6209153002,26374.1221756858,27372.0534832736,27992.9751563018,28197.235956819,28482.5194710025,28257.0962436413,28822.5006563247,29379.6158447459,29683.7786060864,30325.5228742678,31256.5073871178,32152.7207413244,33255.1379678188,33640.6738010628,33753.5782919683,33840.6175643619,34557.1471190953,34946.0372441472,35645.416247825,36322.1685116781,36257.3658869458,35052.8510836822,35578.1967958814,36269.9561589984,36161.2918334209,36256.0866889623,36444.3949135827,36702.4323733379,36920.5342871045,37580.5979319486,38062.4435971517,38705.2072997191,35709.204585868,38030.8571728494,38881.2230653186,39117.4845009362],\"yaxis\":\"y\",\"type\":\"scatter\",\"textposition\":\"bottom right\"},{\"hovertemplate\":\"country=DEU\\u003cbr\\u003eGini coefficient=%{x}\\u003cbr\\u003eGDP per capita=%{y}\\u003cbr\\u003eyear=%{text}\\u003cextra\\u003e\\u003c\\u002fextra\\u003e\",\"legendgroup\":\"DEU\",\"line\":{\"color\":\"#FF6692\",\"dash\":\"solid\"},\"marker\":{\"symbol\":\"circle\"},\"mode\":\"lines+markers+text\",\"name\":\"DEU\",\"orientation\":\"v\",\"showlegend\":true,\"text\":[1963.0,null,null,null,null,1968.0,null,null,null,null,1973.0,null,null,null,null,1978.0,1979.0,null,null,null,1983.0,null,null,1986.0,null,1988.0,null,null,1991.0,null,1993.0,null,1995.0,null,null,1998.0,null,2000.0,null,null,2003.0,null,null,null,null,2008.0,null,null,null,null,2013.0,null,null,null,null,2018.0,null,2020.0,2021.0,2022.0,null],\"x\":[null,null,null,null,null,null,null,null,null,null,null,null,null,null,null,null,null,null,null,null,null,null,null,null,null,null,null,null,29.5,29.1,28.6,29.2,28.8,28.0,28.2,28.3,29.0,28.9,29.9,29.8,29.8,30.2,31.7,31.0,31.2,30.8,30.5,30.2,30.6,31.1,31.5,30.8,31.7,31.4,31.3,31.9,31.8,32.4,32.4,32.4,32.4],\"xaxis\":\"x\",\"y\":[13766.5355362913,14562.8358867104,15196.3266135987,15493.828376695,15372.2150106017,16171.5531425011,17233.9697030039,18053.2877662512,18584.7134080664,19291.3926710734,20149.4771410192,20320.9008986241,20220.0209834851,21311.945010658,22075.2189098003,22759.1492987824,23693.2601878736,23977.2698645215,24067.4825503981,23995.2661890258,24436.5473234992,25213.3820426351,25858.0588733612,26437.4177394677,26766.9600581443,27651.0362681017,28507.1621299938,29747.6909405244,31040.2935628737,31425.647608288,30915.8728851988,31609.1102861092,31990.7949869618,32229.4778702849,32779.2802468879,33461.3192202157,34152.0032256224,35087.0891559515,35601.3628351653,35460.4121336422,35252.9745134977,35670.4870276152,36006.8578105923,37437.3918783337,38570.9146408152,38996.143407627,36927.1920287013,38517.4397860109,40712.6577363042,40829.034893805,40875.0262803178,41588.0763875592,41911.0109851054,42528.0637107828,43520.1864212996,43874.0130936092,44207.6320519514,42362.6472136853,43898.7713167519,44180.4298386996,44336.7775157399],\"yaxis\":\"y\",\"type\":\"scatter\",\"textposition\":\"bottom right\"}],                        {\"template\":{\"data\":{\"histogram2dcontour\":[{\"type\":\"histogram2dcontour\",\"colorbar\":{\"outlinewidth\":0,\"ticks\":\"\"},\"colorscale\":[[0.0,\"#0d0887\"],[0.1111111111111111,\"#46039f\"],[0.2222222222222222,\"#7201a8\"],[0.3333333333333333,\"#9c179e\"],[0.4444444444444444,\"#bd3786\"],[0.5555555555555556,\"#d8576b\"],[0.6666666666666666,\"#ed7953\"],[0.7777777777777778,\"#fb9f3a\"],[0.8888888888888888,\"#fdca26\"],[1.0,\"#f0f921\"]]}],\"choropleth\":[{\"type\":\"choropleth\",\"colorbar\":{\"outlinewidth\":0,\"ticks\":\"\"}}],\"histogram2d\":[{\"type\":\"histogram2d\",\"colorbar\":{\"outlinewidth\":0,\"ticks\":\"\"},\"colorscale\":[[0.0,\"#0d0887\"],[0.1111111111111111,\"#46039f\"],[0.2222222222222222,\"#7201a8\"],[0.3333333333333333,\"#9c179e\"],[0.4444444444444444,\"#bd3786\"],[0.5555555555555556,\"#d8576b\"],[0.6666666666666666,\"#ed7953\"],[0.7777777777777778,\"#fb9f3a\"],[0.8888888888888888,\"#fdca26\"],[1.0,\"#f0f921\"]]}],\"heatmap\":[{\"type\":\"heatmap\",\"colorbar\":{\"outlinewidth\":0,\"ticks\":\"\"},\"colorscale\":[[0.0,\"#0d0887\"],[0.1111111111111111,\"#46039f\"],[0.2222222222222222,\"#7201a8\"],[0.3333333333333333,\"#9c179e\"],[0.4444444444444444,\"#bd3786\"],[0.5555555555555556,\"#d8576b\"],[0.6666666666666666,\"#ed7953\"],[0.7777777777777778,\"#fb9f3a\"],[0.8888888888888888,\"#fdca26\"],[1.0,\"#f0f921\"]]}],\"heatmapgl\":[{\"type\":\"heatmapgl\",\"colorbar\":{\"outlinewidth\":0,\"ticks\":\"\"},\"colorscale\":[[0.0,\"#0d0887\"],[0.1111111111111111,\"#46039f\"],[0.2222222222222222,\"#7201a8\"],[0.3333333333333333,\"#9c179e\"],[0.4444444444444444,\"#bd3786\"],[0.5555555555555556,\"#d8576b\"],[0.6666666666666666,\"#ed7953\"],[0.7777777777777778,\"#fb9f3a\"],[0.8888888888888888,\"#fdca26\"],[1.0,\"#f0f921\"]]}],\"contourcarpet\":[{\"type\":\"contourcarpet\",\"colorbar\":{\"outlinewidth\":0,\"ticks\":\"\"}}],\"contour\":[{\"type\":\"contour\",\"colorbar\":{\"outlinewidth\":0,\"ticks\":\"\"},\"colorscale\":[[0.0,\"#0d0887\"],[0.1111111111111111,\"#46039f\"],[0.2222222222222222,\"#7201a8\"],[0.3333333333333333,\"#9c179e\"],[0.4444444444444444,\"#bd3786\"],[0.5555555555555556,\"#d8576b\"],[0.6666666666666666,\"#ed7953\"],[0.7777777777777778,\"#fb9f3a\"],[0.8888888888888888,\"#fdca26\"],[1.0,\"#f0f921\"]]}],\"surface\":[{\"type\":\"surface\",\"colorbar\":{\"outlinewidth\":0,\"ticks\":\"\"},\"colorscale\":[[0.0,\"#0d0887\"],[0.1111111111111111,\"#46039f\"],[0.2222222222222222,\"#7201a8\"],[0.3333333333333333,\"#9c179e\"],[0.4444444444444444,\"#bd3786\"],[0.5555555555555556,\"#d8576b\"],[0.6666666666666666,\"#ed7953\"],[0.7777777777777778,\"#fb9f3a\"],[0.8888888888888888,\"#fdca26\"],[1.0,\"#f0f921\"]]}],\"mesh3d\":[{\"type\":\"mesh3d\",\"colorbar\":{\"outlinewidth\":0,\"ticks\":\"\"}}],\"scatter\":[{\"fillpattern\":{\"fillmode\":\"overlay\",\"size\":10,\"solidity\":0.2},\"type\":\"scatter\"}],\"parcoords\":[{\"type\":\"parcoords\",\"line\":{\"colorbar\":{\"outlinewidth\":0,\"ticks\":\"\"}}}],\"scatterpolargl\":[{\"type\":\"scatterpolargl\",\"marker\":{\"colorbar\":{\"outlinewidth\":0,\"ticks\":\"\"}}}],\"bar\":[{\"error_x\":{\"color\":\"#2a3f5f\"},\"error_y\":{\"color\":\"#2a3f5f\"},\"marker\":{\"line\":{\"color\":\"#E5ECF6\",\"width\":0.5},\"pattern\":{\"fillmode\":\"overlay\",\"size\":10,\"solidity\":0.2}},\"type\":\"bar\"}],\"scattergeo\":[{\"type\":\"scattergeo\",\"marker\":{\"colorbar\":{\"outlinewidth\":0,\"ticks\":\"\"}}}],\"scatterpolar\":[{\"type\":\"scatterpolar\",\"marker\":{\"colorbar\":{\"outlinewidth\":0,\"ticks\":\"\"}}}],\"histogram\":[{\"marker\":{\"pattern\":{\"fillmode\":\"overlay\",\"size\":10,\"solidity\":0.2}},\"type\":\"histogram\"}],\"scattergl\":[{\"type\":\"scattergl\",\"marker\":{\"colorbar\":{\"outlinewidth\":0,\"ticks\":\"\"}}}],\"scatter3d\":[{\"type\":\"scatter3d\",\"line\":{\"colorbar\":{\"outlinewidth\":0,\"ticks\":\"\"}},\"marker\":{\"colorbar\":{\"outlinewidth\":0,\"ticks\":\"\"}}}],\"scattermapbox\":[{\"type\":\"scattermapbox\",\"marker\":{\"colorbar\":{\"outlinewidth\":0,\"ticks\":\"\"}}}],\"scatterternary\":[{\"type\":\"scatterternary\",\"marker\":{\"colorbar\":{\"outlinewidth\":0,\"ticks\":\"\"}}}],\"scattercarpet\":[{\"type\":\"scattercarpet\",\"marker\":{\"colorbar\":{\"outlinewidth\":0,\"ticks\":\"\"}}}],\"carpet\":[{\"aaxis\":{\"endlinecolor\":\"#2a3f5f\",\"gridcolor\":\"white\",\"linecolor\":\"white\",\"minorgridcolor\":\"white\",\"startlinecolor\":\"#2a3f5f\"},\"baxis\":{\"endlinecolor\":\"#2a3f5f\",\"gridcolor\":\"white\",\"linecolor\":\"white\",\"minorgridcolor\":\"white\",\"startlinecolor\":\"#2a3f5f\"},\"type\":\"carpet\"}],\"table\":[{\"cells\":{\"fill\":{\"color\":\"#EBF0F8\"},\"line\":{\"color\":\"white\"}},\"header\":{\"fill\":{\"color\":\"#C8D4E3\"},\"line\":{\"color\":\"white\"}},\"type\":\"table\"}],\"barpolar\":[{\"marker\":{\"line\":{\"color\":\"#E5ECF6\",\"width\":0.5},\"pattern\":{\"fillmode\":\"overlay\",\"size\":10,\"solidity\":0.2}},\"type\":\"barpolar\"}],\"pie\":[{\"automargin\":true,\"type\":\"pie\"}]},\"layout\":{\"autotypenumbers\":\"strict\",\"colorway\":[\"#636efa\",\"#EF553B\",\"#00cc96\",\"#ab63fa\",\"#FFA15A\",\"#19d3f3\",\"#FF6692\",\"#B6E880\",\"#FF97FF\",\"#FECB52\"],\"font\":{\"color\":\"#2a3f5f\"},\"hovermode\":\"closest\",\"hoverlabel\":{\"align\":\"left\"},\"paper_bgcolor\":\"white\",\"plot_bgcolor\":\"#E5ECF6\",\"polar\":{\"bgcolor\":\"#E5ECF6\",\"angularaxis\":{\"gridcolor\":\"white\",\"linecolor\":\"white\",\"ticks\":\"\"},\"radialaxis\":{\"gridcolor\":\"white\",\"linecolor\":\"white\",\"ticks\":\"\"}},\"ternary\":{\"bgcolor\":\"#E5ECF6\",\"aaxis\":{\"gridcolor\":\"white\",\"linecolor\":\"white\",\"ticks\":\"\"},\"baxis\":{\"gridcolor\":\"white\",\"linecolor\":\"white\",\"ticks\":\"\"},\"caxis\":{\"gridcolor\":\"white\",\"linecolor\":\"white\",\"ticks\":\"\"}},\"coloraxis\":{\"colorbar\":{\"outlinewidth\":0,\"ticks\":\"\"}},\"colorscale\":{\"sequential\":[[0.0,\"#0d0887\"],[0.1111111111111111,\"#46039f\"],[0.2222222222222222,\"#7201a8\"],[0.3333333333333333,\"#9c179e\"],[0.4444444444444444,\"#bd3786\"],[0.5555555555555556,\"#d8576b\"],[0.6666666666666666,\"#ed7953\"],[0.7777777777777778,\"#fb9f3a\"],[0.8888888888888888,\"#fdca26\"],[1.0,\"#f0f921\"]],\"sequentialminus\":[[0.0,\"#0d0887\"],[0.1111111111111111,\"#46039f\"],[0.2222222222222222,\"#7201a8\"],[0.3333333333333333,\"#9c179e\"],[0.4444444444444444,\"#bd3786\"],[0.5555555555555556,\"#d8576b\"],[0.6666666666666666,\"#ed7953\"],[0.7777777777777778,\"#fb9f3a\"],[0.8888888888888888,\"#fdca26\"],[1.0,\"#f0f921\"]],\"diverging\":[[0,\"#8e0152\"],[0.1,\"#c51b7d\"],[0.2,\"#de77ae\"],[0.3,\"#f1b6da\"],[0.4,\"#fde0ef\"],[0.5,\"#f7f7f7\"],[0.6,\"#e6f5d0\"],[0.7,\"#b8e186\"],[0.8,\"#7fbc41\"],[0.9,\"#4d9221\"],[1,\"#276419\"]]},\"xaxis\":{\"gridcolor\":\"white\",\"linecolor\":\"white\",\"ticks\":\"\",\"title\":{\"standoff\":15},\"zerolinecolor\":\"white\",\"automargin\":true,\"zerolinewidth\":2},\"yaxis\":{\"gridcolor\":\"white\",\"linecolor\":\"white\",\"ticks\":\"\",\"title\":{\"standoff\":15},\"zerolinecolor\":\"white\",\"automargin\":true,\"zerolinewidth\":2},\"scene\":{\"xaxis\":{\"backgroundcolor\":\"#E5ECF6\",\"gridcolor\":\"white\",\"linecolor\":\"white\",\"showbackground\":true,\"ticks\":\"\",\"zerolinecolor\":\"white\",\"gridwidth\":2},\"yaxis\":{\"backgroundcolor\":\"#E5ECF6\",\"gridcolor\":\"white\",\"linecolor\":\"white\",\"showbackground\":true,\"ticks\":\"\",\"zerolinecolor\":\"white\",\"gridwidth\":2},\"zaxis\":{\"backgroundcolor\":\"#E5ECF6\",\"gridcolor\":\"white\",\"linecolor\":\"white\",\"showbackground\":true,\"ticks\":\"\",\"zerolinecolor\":\"white\",\"gridwidth\":2}},\"shapedefaults\":{\"line\":{\"color\":\"#2a3f5f\"}},\"annotationdefaults\":{\"arrowcolor\":\"#2a3f5f\",\"arrowhead\":0,\"arrowwidth\":1},\"geo\":{\"bgcolor\":\"white\",\"landcolor\":\"#E5ECF6\",\"subunitcolor\":\"white\",\"showland\":true,\"showlakes\":true,\"lakecolor\":\"white\"},\"title\":{\"x\":0.05},\"mapbox\":{\"style\":\"light\"}}},\"xaxis\":{\"anchor\":\"y\",\"domain\":[0.0,1.0],\"title\":{\"text\":\"Gini coefficient\"}},\"yaxis\":{\"anchor\":\"x\",\"domain\":[0.0,1.0],\"title\":{\"text\":\"GDP per capita\"}},\"legend\":{\"title\":{\"text\":\"country\"},\"tracegroupgap\":0},\"margin\":{\"t\":60},\"height\":800},                        {\"responsive\": true}                    ).then(function(){\n",
       "                            \n",
       "var gd = document.getElementById('077b0561-dc6c-4f26-a353-9d651b8c3e2c');\n",
       "var x = new MutationObserver(function (mutations, observer) {{\n",
       "        var display = window.getComputedStyle(gd).display;\n",
       "        if (!display || display === 'none') {{\n",
       "            console.log([gd, 'removed!']);\n",
       "            Plotly.purge(gd);\n",
       "            observer.disconnect();\n",
       "        }}\n",
       "}});\n",
       "\n",
       "// Listen for the removal of the full notebook cells\n",
       "var notebookContainer = gd.closest('#notebook-container');\n",
       "if (notebookContainer) {{\n",
       "    x.observe(notebookContainer, {childList: true});\n",
       "}}\n",
       "\n",
       "// Listen for the clearing of the current output cell\n",
       "var outputEl = gd.closest('.output');\n",
       "if (outputEl) {{\n",
       "    x.observe(outputEl, {childList: true});\n",
       "}}\n",
       "\n",
       "                        })                };                });            </script>        </div>"
      ]
     },
     "metadata": {},
     "output_type": "display_data"
    }
   ],
   "source": [
    "# plot GDP per capita on the y-axis and Gini on the x-axis:\n",
    "fig = px.line(plot_data, \n",
    "              x = \"gini\", \n",
    "              y = \"gdppc\", \n",
    "              color = \"country\", \n",
    "              text = \"year\", \n",
    "              height = 800,\n",
    "              labels = {\"gini\" : \"Gini coefficient\", \"gdppc\" : \"GDP per capita\"}\n",
    "             )\n",
    "fig.update_traces(textposition=\"bottom right\")\n",
    "fig.show()"
   ]
  },
  {
   "cell_type": "code",
   "execution_count": null,
   "id": "073d98b7-c510-41a6-91da-8302be42951c",
   "metadata": {},
   "outputs": [],
   "source": []
  }
 ],
 "metadata": {
  "kernelspec": {
   "display_name": "Python 3 (ipykernel)",
   "language": "python",
   "name": "python3"
  },
  "language_info": {
   "codemirror_mode": {
    "name": "ipython",
    "version": 3
   },
   "file_extension": ".py",
   "mimetype": "text/x-python",
   "name": "python",
   "nbconvert_exporter": "python",
   "pygments_lexer": "ipython3",
   "version": "3.12.0"
  }
 },
 "nbformat": 4,
 "nbformat_minor": 5
}
